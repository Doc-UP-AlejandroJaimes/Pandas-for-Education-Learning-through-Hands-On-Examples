{
 "cells": [
  {
   "cell_type": "markdown",
   "metadata": {},
   "source": [
    "# Essential DataFrame Operations: Advanced Operations and Case Study\n",
    "_This section explores handling missing values, transposing DataFrames, and applying these concepts in a practical exercise._\n",
    "\n",
    "---\n",
    "\n",
    "## Contents\n",
    "1. **Introduction**  \n",
    "   - Challenges in real-world data processing  \n",
    "   - Importance of handling missing values and data transformations  \n",
    "\n",
    "2. **Key Concepts**  \n",
    "   - Comparing Missing Values  \n",
    "   - Transposing the Direction of a DataFrame Operation  \n",
    "3. **Special Exercise: University Admissions Analysis**\n",
    "   - Use the key Pandas operations learned in Chapter 2 to analyze the admissions dataset and answer important questions about the data.\n",
    "\n",
    "---\n",
    "## Datasets Used\n",
    "- [zeeshier/student-admission-records](https://www.kaggle.com/datasets/zeeshier/student-admission-records)  \n",
    "\n",
    "### About Dataset  \n",
    "\n",
    "#### Context  \n",
    "This dataset is crafted for beginners to practice data cleaning and preprocessing techniques in machine learning. It contains **157 rows** of student admission records, including duplicate rows, missing values, and some data inconsistencies (e.g., outliers, unrealistic values). It’s ideal for practicing common data preparation steps before applying machine learning algorithms.  \n",
    "\n",
    "The dataset simulates a **university admission record system**, where each student’s admission profile includes test scores, high school percentages, and admission status. The data contains realistic flaws often encountered in raw datasets, offering hands-on experience in data wrangling.  \n",
    "\n",
    "#### Content  \n",
    "##### Features of the dataset:  \n",
    "- **Name**: Student's first name (Pakistani names).  \n",
    "- **Age**: Age of the student (some outliers and missing values).  \n",
    "- **Gender**: Gender (Male/Female).  \n",
    "- **Admission Test Score**: Score obtained in the admission test (includes outliers and missing values).  \n",
    "- **High School Percentage**: Student's high school final score percentage (includes outliers and missing values).  \n",
    "- **City**: City of residence in Pakistan.  \n",
    "- **Admission Status**: Whether the student was accepted or rejected.  \n",
    "\n",
    "#### Acknowledgements  \n",
    "Special thanks to [Zeeshier](https://www.kaggle.com/zeeshier) for providing this dataset for educational purposes.  \n",
    "\n",
    "#### Inspiration  \n",
    "This dataset is ideal for practicing data cleaning, handling missing values, detecting duplicates, and identifying outliers—key preprocessing steps before applying machine learning models.  \n",
    "\n",
    "#### Source  \n",
    "The dataset is publicly available on Kaggle:  \n",
    "[Student Admission Records Dataset](https://www.kaggle.com/datasets/zeeshier/student-admission-records)  \n",
    "\n",
    "---\n",
    "## Author\n",
    "**Author Name:** Juan Alejandro Carrillo Jaimes  \n",
    "\n",
    "**Contact:** [jalejandrocjaimes@gmail.com](mailto:jalejandrocjaimes@gmail.com) - [Linkedin-AlejoCJaimes31](https://www.linkedin.com/in/alejocjaimes31/)  \n",
    "\n",
    "**Purpose:** This content was created as an educational resource for university students.\n"
   ]
  },
  {
   "cell_type": "markdown",
   "metadata": {},
   "source": [
    "# 1. Introduction\n",
    "In real-world data analysis, datasets often contain missing or incomplete values that can impact insights and decision-making. Handling these missing values correctly is crucial for maintaining data integrity. Additionally, data transformation techniques like transposing DataFrames allow us to reshape data for better analysis and visualization.\n",
    "\n",
    "## Challenges in real-world data processing  \n",
    "\n",
    "<p align=\"center\">\n",
    "  <img src=\"https://cdn.botpenguin.com/assets/website/Preprocessing_0359d7faa0.png\" width=\"500\" height=\"500\"/>\n",
    "</p>\n",
    "\n",
    "Real-world datasets are rarely perfect; they often contain missing, inconsistent, or inaccurate data. Missing values can occur due to human error, system failures, or incomplete data collection. Ignoring these gaps in data can lead to misleading analyses and incorrect conclusions.  \n",
    "\n",
    "To address this, we need strategies for identifying, handling, and replacing missing values. Pandas provides several methods, such as `.isna()`, `.fillna()`, and `.dropna()`, to manage missing data efficiently.\n",
    "\n",
    "## Importance of handling missing values and data transformations  \n",
    "\n",
    "<p align=\"center\">\n",
    "  <img src=\"https://fastercapital.com/i/Data-Transformation-Unlocking-Business-Insights--A-Guide-to-Effective-Data-Transformation--Handling-Missing-Data.webp\" width=\"500\" height=\"300\"/>\n",
    "</p>\n",
    "\n",
    "Data transformation is an essential step in preprocessing because it allows for better structure and interpretation. One common transformation technique is **transposing** a DataFrame using `.T`, which flips rows and columns.  \n",
    "\n",
    "Transposing is useful when the existing format does not align with the required analysis, making it easier to extract insights and visualize relationships within the data. It is particularly helpful when dealing with time-series data, correlation matrices, or datasets where attributes should be restructured for better readability.\n"
   ]
  },
  {
   "cell_type": "markdown",
   "metadata": {},
   "source": [
    "# Dataset Important Information\n",
    "\n",
    "How to import the dataset from kaggle and the step-by-step is described in [C1-Introduction-To-Pandas-and-DataFrame-Structure.ipynb](https://github.com/Doc-UP-AlejandroJaimes/Pandas-for-Education-Learning-through-Hands-On-Examples/blob/main/C1-Getting-Started-with-Pandas-Basics-and-Fundamentals/C1-Introduction/C1-Introduction-To-Pandas-and-DataFrame-Structure.ipynb)"
   ]
  },
  {
   "cell_type": "code",
   "execution_count": 2,
   "metadata": {},
   "outputs": [],
   "source": [
    "from kaggle.api.kaggle_api_extended import KaggleApi # type: ignore\n",
    "import pandas as pd\n",
    "import numpy as np \n",
    "import os\n",
    "\n",
    "# Authenticate with the Kaggle API\n",
    "api = KaggleApi()\n",
    "api.authenticate()"
   ]
  },
  {
   "cell_type": "code",
   "execution_count": 8,
   "metadata": {},
   "outputs": [
    {
     "name": "stdout",
     "output_type": "stream",
     "text": [
      "Dataset URL: https://www.kaggle.com/datasets/zeeshier/student-admission-records\n"
     ]
    }
   ],
   "source": [
    "# Download the dataset\n",
    "current_path = os.getcwd()\n",
    "root_dir = os.path.abspath(os.path.join(current_path, '../../'))\n",
    "dataset_path = os.path.join(root_dir, 'datasets', 'sudent-adm-records-kaggle-df')\n",
    "api.dataset_download_files('zeeshier/student-admission-records', path=dataset_path, unzip=True)"
   ]
  },
  {
   "cell_type": "code",
   "execution_count": 10,
   "metadata": {},
   "outputs": [
    {
     "name": "stdout",
     "output_type": "stream",
     "text": [
      "c:\\Users\\study_2025\\Documents\\Github\\Doc-UP-AlejandroJaimes\\Pandas-for-Education-Learning-through-Hands-On-Examples\\datasets\\sudent-adm-records-kaggle-df\\student_admission_record_dirty.csv\n"
     ]
    }
   ],
   "source": [
    "def check_files(full_path):\n",
    "    for dirname, _, filenames in os.walk(full_path):\n",
    "        for filename in filenames:\n",
    "            print(os.path.join(dirname, filename))\n",
    "\n",
    "check_files(dataset_path)"
   ]
  },
  {
   "cell_type": "code",
   "execution_count": 37,
   "metadata": {},
   "outputs": [],
   "source": [
    "filepath = os.path.join(dataset_path, 'student_admission_record_dirty.csv')\n",
    "std_adm_dirty = pd.read_csv(filepath)"
   ]
  },
  {
   "cell_type": "code",
   "execution_count": 42,
   "metadata": {},
   "outputs": [
    {
     "data": {
      "text/html": [
       "<div>\n",
       "<style scoped>\n",
       "    .dataframe tbody tr th:only-of-type {\n",
       "        vertical-align: middle;\n",
       "    }\n",
       "\n",
       "    .dataframe tbody tr th {\n",
       "        vertical-align: top;\n",
       "    }\n",
       "\n",
       "    .dataframe thead th {\n",
       "        text-align: right;\n",
       "    }\n",
       "</style>\n",
       "<table border=\"1\" class=\"dataframe\">\n",
       "  <thead>\n",
       "    <tr style=\"text-align: right;\">\n",
       "      <th></th>\n",
       "      <th>name</th>\n",
       "      <th>age</th>\n",
       "      <th>gender</th>\n",
       "      <th>test_score</th>\n",
       "      <th>hs_percentage</th>\n",
       "      <th>city</th>\n",
       "      <th>admit_status</th>\n",
       "    </tr>\n",
       "  </thead>\n",
       "  <tbody>\n",
       "    <tr>\n",
       "      <th>0</th>\n",
       "      <td>Shehroz</td>\n",
       "      <td>24.0</td>\n",
       "      <td>Female</td>\n",
       "      <td>50.0</td>\n",
       "      <td>68.90</td>\n",
       "      <td>Quetta</td>\n",
       "      <td>Rejected</td>\n",
       "    </tr>\n",
       "    <tr>\n",
       "      <th>1</th>\n",
       "      <td>Waqar</td>\n",
       "      <td>21.0</td>\n",
       "      <td>Female</td>\n",
       "      <td>99.0</td>\n",
       "      <td>60.73</td>\n",
       "      <td>Karachi</td>\n",
       "      <td>NaN</td>\n",
       "    </tr>\n",
       "    <tr>\n",
       "      <th>2</th>\n",
       "      <td>Bushra</td>\n",
       "      <td>17.0</td>\n",
       "      <td>Male</td>\n",
       "      <td>89.0</td>\n",
       "      <td>NaN</td>\n",
       "      <td>Islamabad</td>\n",
       "      <td>Accepted</td>\n",
       "    </tr>\n",
       "    <tr>\n",
       "      <th>3</th>\n",
       "      <td>Aliya</td>\n",
       "      <td>17.0</td>\n",
       "      <td>Male</td>\n",
       "      <td>55.0</td>\n",
       "      <td>85.29</td>\n",
       "      <td>Karachi</td>\n",
       "      <td>Rejected</td>\n",
       "    </tr>\n",
       "    <tr>\n",
       "      <th>4</th>\n",
       "      <td>Bilal</td>\n",
       "      <td>20.0</td>\n",
       "      <td>Male</td>\n",
       "      <td>65.0</td>\n",
       "      <td>61.13</td>\n",
       "      <td>Lahore</td>\n",
       "      <td>NaN</td>\n",
       "    </tr>\n",
       "  </tbody>\n",
       "</table>\n",
       "</div>"
      ],
      "text/plain": [
       "      name   age  gender  test_score  hs_percentage       city admit_status\n",
       "0  Shehroz  24.0  Female        50.0          68.90     Quetta     Rejected\n",
       "1    Waqar  21.0  Female        99.0          60.73    Karachi          NaN\n",
       "2   Bushra  17.0    Male        89.0            NaN  Islamabad     Accepted\n",
       "3    Aliya  17.0    Male        55.0          85.29    Karachi     Rejected\n",
       "4    Bilal  20.0    Male        65.0          61.13     Lahore          NaN"
      ]
     },
     "execution_count": 42,
     "metadata": {},
     "output_type": "execute_result"
    }
   ],
   "source": [
    "std_adm_dirty.head()"
   ]
  },
  {
   "cell_type": "markdown",
   "metadata": {},
   "source": [
    "1. Normalize all columns to lower case, and replace white spaces by underscore and shorten columns wheter is neccesary."
   ]
  },
  {
   "cell_type": "code",
   "execution_count": 38,
   "metadata": {},
   "outputs": [
    {
     "name": "stdout",
     "output_type": "stream",
     "text": [
      "Current Columns: ['Name', 'Age', 'Gender', 'Admission Test Score', 'High School Percentage', 'City', 'Admission Status']\n"
     ]
    }
   ],
   "source": [
    "print(f'Current Columns: {std_adm_dirty.columns.tolist()}')"
   ]
  },
  {
   "cell_type": "code",
   "execution_count": 39,
   "metadata": {},
   "outputs": [
    {
     "name": "stdout",
     "output_type": "stream",
     "text": [
      "Normalized Columns: ['name', 'age', 'gender', 'admission_test_score', 'high_school_percentage', 'city', 'admission_status']\n"
     ]
    }
   ],
   "source": [
    "std_adm_dirty.columns = std_adm_dirty.columns.str.replace(' ','_').str.lower()\n",
    "print(f'Normalized Columns: {std_adm_dirty.columns.tolist()}')"
   ]
  },
  {
   "cell_type": "code",
   "execution_count": 40,
   "metadata": {},
   "outputs": [
    {
     "name": "stdout",
     "output_type": "stream",
     "text": [
      "Shorted Columns: ['name', 'age', 'gender', 'test_score', 'hs_percentage', 'city', 'admit_status']\n"
     ]
    }
   ],
   "source": [
    "def shorten_cols(col):\n",
    "    return (\n",
    "        str(col)\n",
    "        .replace('admission_test_score', 'test_score')\n",
    "        .replace('high_school_percentage', 'hs_percentage')\n",
    "        .replace('admission_status', 'admit_status')\n",
    "    )\n",
    "std_adm_dirty.rename(columns=shorten_cols, inplace=True)\n",
    "print(f'Shorted Columns: {std_adm_dirty.columns.tolist()}')"
   ]
  },
  {
   "cell_type": "markdown",
   "metadata": {},
   "source": [
    "2. Sort columns according to the following criteria:\n",
    "- Classify each columnn as either categorical or continuos.\n",
    "- Group common columns within the categorical and continuous columns.\n",
    "- Place the most important groups of columns first with categorical columns before continuous ones."
   ]
  },
  {
   "cell_type": "code",
   "execution_count": 41,
   "metadata": {},
   "outputs": [
    {
     "name": "stdout",
     "output_type": "stream",
     "text": [
      "<class 'pandas.core.frame.DataFrame'>\n",
      "RangeIndex: 157 entries, 0 to 156\n",
      "Data columns (total 7 columns):\n",
      " #   Column         Non-Null Count  Dtype  \n",
      "---  ------         --------------  -----  \n",
      " 0   name           147 non-null    object \n",
      " 1   age            147 non-null    float64\n",
      " 2   gender         147 non-null    object \n",
      " 3   test_score     146 non-null    float64\n",
      " 4   hs_percentage  146 non-null    float64\n",
      " 5   city           147 non-null    object \n",
      " 6   admit_status   147 non-null    object \n",
      "dtypes: float64(3), object(4)\n",
      "memory usage: 8.7+ KB\n"
     ]
    }
   ],
   "source": [
    "std_adm_dirty.info()"
   ]
  },
  {
   "cell_type": "markdown",
   "metadata": {},
   "source": [
    "**Categorical Data**\n",
    "1. name\n",
    "2. gender\n",
    "3. city\n",
    "4. admit_status\n",
    "\n",
    "**Continuos Data**\n",
    "\n",
    "1. test_score\n",
    "2. hs_percentage\n",
    "3. age"
   ]
  },
  {
   "cell_type": "code",
   "execution_count": 45,
   "metadata": {},
   "outputs": [],
   "source": [
    "# Change age from float to inter accepting NaN values.\n",
    "std_adm_dirty['age'] = std_adm_dirty['age'].astype('Int64')"
   ]
  },
  {
   "cell_type": "code",
   "execution_count": 47,
   "metadata": {},
   "outputs": [
    {
     "name": "stdout",
     "output_type": "stream",
     "text": [
      "['name', 'gender', 'city', 'admit_status', 'test_score', 'hs_percentage', 'age']\n",
      "Contains all the columns from the original?: True\n"
     ]
    }
   ],
   "source": [
    "cat_student = [\n",
    "    'name',\n",
    "    'gender',\n",
    "    'city',\n",
    "    'admit_status'\n",
    "]\n",
    "\n",
    "cont_student = [\n",
    "    'test_score',\n",
    "    'hs_percentage',\n",
    "    'age'\n",
    "]\n",
    "\n",
    "new_cols_order = cat_student + cont_student\n",
    "print(new_cols_order)\n",
    "\n",
    "# Ensure that this list contains all the columns from the original.\n",
    "\n",
    "print(f'Contains all the columns from the original?: {set(std_adm_dirty.columns) == set(new_cols_order)}')"
   ]
  },
  {
   "cell_type": "code",
   "execution_count": 48,
   "metadata": {},
   "outputs": [
    {
     "data": {
      "text/html": [
       "<div>\n",
       "<style scoped>\n",
       "    .dataframe tbody tr th:only-of-type {\n",
       "        vertical-align: middle;\n",
       "    }\n",
       "\n",
       "    .dataframe tbody tr th {\n",
       "        vertical-align: top;\n",
       "    }\n",
       "\n",
       "    .dataframe thead th {\n",
       "        text-align: right;\n",
       "    }\n",
       "</style>\n",
       "<table border=\"1\" class=\"dataframe\">\n",
       "  <thead>\n",
       "    <tr style=\"text-align: right;\">\n",
       "      <th></th>\n",
       "      <th>name</th>\n",
       "      <th>gender</th>\n",
       "      <th>city</th>\n",
       "      <th>admit_status</th>\n",
       "      <th>test_score</th>\n",
       "      <th>hs_percentage</th>\n",
       "      <th>age</th>\n",
       "    </tr>\n",
       "  </thead>\n",
       "  <tbody>\n",
       "    <tr>\n",
       "      <th>0</th>\n",
       "      <td>Shehroz</td>\n",
       "      <td>Female</td>\n",
       "      <td>Quetta</td>\n",
       "      <td>Rejected</td>\n",
       "      <td>50.0</td>\n",
       "      <td>68.90</td>\n",
       "      <td>24</td>\n",
       "    </tr>\n",
       "    <tr>\n",
       "      <th>1</th>\n",
       "      <td>Waqar</td>\n",
       "      <td>Female</td>\n",
       "      <td>Karachi</td>\n",
       "      <td>NaN</td>\n",
       "      <td>99.0</td>\n",
       "      <td>60.73</td>\n",
       "      <td>21</td>\n",
       "    </tr>\n",
       "    <tr>\n",
       "      <th>2</th>\n",
       "      <td>Bushra</td>\n",
       "      <td>Male</td>\n",
       "      <td>Islamabad</td>\n",
       "      <td>Accepted</td>\n",
       "      <td>89.0</td>\n",
       "      <td>NaN</td>\n",
       "      <td>17</td>\n",
       "    </tr>\n",
       "    <tr>\n",
       "      <th>3</th>\n",
       "      <td>Aliya</td>\n",
       "      <td>Male</td>\n",
       "      <td>Karachi</td>\n",
       "      <td>Rejected</td>\n",
       "      <td>55.0</td>\n",
       "      <td>85.29</td>\n",
       "      <td>17</td>\n",
       "    </tr>\n",
       "    <tr>\n",
       "      <th>4</th>\n",
       "      <td>Bilal</td>\n",
       "      <td>Male</td>\n",
       "      <td>Lahore</td>\n",
       "      <td>NaN</td>\n",
       "      <td>65.0</td>\n",
       "      <td>61.13</td>\n",
       "      <td>20</td>\n",
       "    </tr>\n",
       "  </tbody>\n",
       "</table>\n",
       "</div>"
      ],
      "text/plain": [
       "      name  gender       city admit_status  test_score  hs_percentage  age\n",
       "0  Shehroz  Female     Quetta     Rejected        50.0          68.90   24\n",
       "1    Waqar  Female    Karachi          NaN        99.0          60.73   21\n",
       "2   Bushra    Male  Islamabad     Accepted        89.0            NaN   17\n",
       "3    Aliya    Male    Karachi     Rejected        55.0          85.29   17\n",
       "4    Bilal    Male     Lahore          NaN        65.0          61.13   20"
      ]
     },
     "execution_count": 48,
     "metadata": {},
     "output_type": "execute_result"
    }
   ],
   "source": [
    "std_adm_dirty = std_adm_dirty[new_cols_order]\n",
    "std_adm_dirty.head()"
   ]
  },
  {
   "cell_type": "markdown",
   "metadata": {},
   "source": [
    "# 2. Key Concepts"
   ]
  },
  {
   "cell_type": "markdown",
   "metadata": {},
   "source": [
    "## 2.1 Comparing Missing Values\n",
    "\n",
    "Pandas uses the `NumPy NaN (**np.nan**)` object to represent a missing value. This is an unusual object and has interesting mathematical properties. For instance, it's not equal to itself. Even Python's `None` object evaluates as `True` when compared to itself."
   ]
  },
  {
   "cell_type": "code",
   "execution_count": 49,
   "metadata": {},
   "outputs": [
    {
     "data": {
      "text/plain": [
       "False"
      ]
     },
     "execution_count": 49,
     "metadata": {},
     "output_type": "execute_result"
    }
   ],
   "source": [
    "np.nan == np.nan"
   ]
  },
  {
   "cell_type": "code",
   "execution_count": 51,
   "metadata": {},
   "outputs": [
    {
     "data": {
      "text/plain": [
       "True"
      ]
     },
     "execution_count": 51,
     "metadata": {},
     "output_type": "execute_result"
    }
   ],
   "source": [
    "None == None"
   ]
  },
  {
   "cell_type": "markdown",
   "metadata": {},
   "source": [
    "All other comparisons against `np.nan` also return `False`, except not equal (!=)"
   ]
  },
  {
   "cell_type": "code",
   "execution_count": 52,
   "metadata": {},
   "outputs": [
    {
     "data": {
      "text/plain": [
       "False"
      ]
     },
     "execution_count": 52,
     "metadata": {},
     "output_type": "execute_result"
    }
   ],
   "source": [
    "np.nan > 5"
   ]
  },
  {
   "cell_type": "code",
   "execution_count": 53,
   "metadata": {},
   "outputs": [
    {
     "data": {
      "text/plain": [
       "False"
      ]
     },
     "execution_count": 53,
     "metadata": {},
     "output_type": "execute_result"
    }
   ],
   "source": [
    "5 > np.nan"
   ]
  },
  {
   "cell_type": "code",
   "execution_count": 54,
   "metadata": {},
   "outputs": [
    {
     "data": {
      "text/plain": [
       "True"
      ]
     },
     "execution_count": 54,
     "metadata": {},
     "output_type": "execute_result"
    }
   ],
   "source": [
    "5 != np.nan"
   ]
  },
  {
   "cell_type": "markdown",
   "metadata": {},
   "source": [
    "### Equals Operator\n",
    "Series and DataFrames use the equals operator, `==`, to make element-by-element comparisions. The result is an object with the same dimensiones. Learn how to use the equals operator, which is different from the `.equals` method."
   ]
  },
  {
   "cell_type": "markdown",
   "metadata": {},
   "source": [
    "1. Compare each element to scalar value"
   ]
  },
  {
   "cell_type": "code",
   "execution_count": 56,
   "metadata": {},
   "outputs": [
    {
     "data": {
      "text/html": [
       "<div>\n",
       "<style scoped>\n",
       "    .dataframe tbody tr th:only-of-type {\n",
       "        vertical-align: middle;\n",
       "    }\n",
       "\n",
       "    .dataframe tbody tr th {\n",
       "        vertical-align: top;\n",
       "    }\n",
       "\n",
       "    .dataframe thead th {\n",
       "        text-align: right;\n",
       "    }\n",
       "</style>\n",
       "<table border=\"1\" class=\"dataframe\">\n",
       "  <thead>\n",
       "    <tr style=\"text-align: right;\">\n",
       "      <th></th>\n",
       "      <th>name</th>\n",
       "      <th>gender</th>\n",
       "      <th>city</th>\n",
       "      <th>admit_status</th>\n",
       "      <th>test_score</th>\n",
       "      <th>hs_percentage</th>\n",
       "      <th>age</th>\n",
       "    </tr>\n",
       "  </thead>\n",
       "  <tbody>\n",
       "    <tr>\n",
       "      <th>0</th>\n",
       "      <td>False</td>\n",
       "      <td>False</td>\n",
       "      <td>False</td>\n",
       "      <td>False</td>\n",
       "      <td>False</td>\n",
       "      <td>False</td>\n",
       "      <td>True</td>\n",
       "    </tr>\n",
       "    <tr>\n",
       "      <th>1</th>\n",
       "      <td>False</td>\n",
       "      <td>False</td>\n",
       "      <td>False</td>\n",
       "      <td>False</td>\n",
       "      <td>False</td>\n",
       "      <td>False</td>\n",
       "      <td>False</td>\n",
       "    </tr>\n",
       "    <tr>\n",
       "      <th>2</th>\n",
       "      <td>False</td>\n",
       "      <td>False</td>\n",
       "      <td>False</td>\n",
       "      <td>False</td>\n",
       "      <td>False</td>\n",
       "      <td>False</td>\n",
       "      <td>False</td>\n",
       "    </tr>\n",
       "    <tr>\n",
       "      <th>3</th>\n",
       "      <td>False</td>\n",
       "      <td>False</td>\n",
       "      <td>False</td>\n",
       "      <td>False</td>\n",
       "      <td>False</td>\n",
       "      <td>False</td>\n",
       "      <td>False</td>\n",
       "    </tr>\n",
       "    <tr>\n",
       "      <th>4</th>\n",
       "      <td>False</td>\n",
       "      <td>False</td>\n",
       "      <td>False</td>\n",
       "      <td>False</td>\n",
       "      <td>False</td>\n",
       "      <td>False</td>\n",
       "      <td>False</td>\n",
       "    </tr>\n",
       "    <tr>\n",
       "      <th>...</th>\n",
       "      <td>...</td>\n",
       "      <td>...</td>\n",
       "      <td>...</td>\n",
       "      <td>...</td>\n",
       "      <td>...</td>\n",
       "      <td>...</td>\n",
       "      <td>...</td>\n",
       "    </tr>\n",
       "    <tr>\n",
       "      <th>152</th>\n",
       "      <td>False</td>\n",
       "      <td>False</td>\n",
       "      <td>False</td>\n",
       "      <td>False</td>\n",
       "      <td>False</td>\n",
       "      <td>False</td>\n",
       "      <td>False</td>\n",
       "    </tr>\n",
       "    <tr>\n",
       "      <th>153</th>\n",
       "      <td>False</td>\n",
       "      <td>False</td>\n",
       "      <td>False</td>\n",
       "      <td>False</td>\n",
       "      <td>False</td>\n",
       "      <td>False</td>\n",
       "      <td>False</td>\n",
       "    </tr>\n",
       "    <tr>\n",
       "      <th>154</th>\n",
       "      <td>False</td>\n",
       "      <td>False</td>\n",
       "      <td>False</td>\n",
       "      <td>False</td>\n",
       "      <td>False</td>\n",
       "      <td>False</td>\n",
       "      <td>False</td>\n",
       "    </tr>\n",
       "    <tr>\n",
       "      <th>155</th>\n",
       "      <td>False</td>\n",
       "      <td>False</td>\n",
       "      <td>False</td>\n",
       "      <td>False</td>\n",
       "      <td>False</td>\n",
       "      <td>False</td>\n",
       "      <td>False</td>\n",
       "    </tr>\n",
       "    <tr>\n",
       "      <th>156</th>\n",
       "      <td>False</td>\n",
       "      <td>False</td>\n",
       "      <td>False</td>\n",
       "      <td>False</td>\n",
       "      <td>False</td>\n",
       "      <td>False</td>\n",
       "      <td>False</td>\n",
       "    </tr>\n",
       "  </tbody>\n",
       "</table>\n",
       "<p>157 rows × 7 columns</p>\n",
       "</div>"
      ],
      "text/plain": [
       "      name  gender   city  admit_status  test_score  hs_percentage    age\n",
       "0    False   False  False         False       False          False   True\n",
       "1    False   False  False         False       False          False  False\n",
       "2    False   False  False         False       False          False  False\n",
       "3    False   False  False         False       False          False  False\n",
       "4    False   False  False         False       False          False  False\n",
       "..     ...     ...    ...           ...         ...            ...    ...\n",
       "152  False   False  False         False       False          False  False\n",
       "153  False   False  False         False       False          False  False\n",
       "154  False   False  False         False       False          False  False\n",
       "155  False   False  False         False       False          False  False\n",
       "156  False   False  False         False       False          False  False\n",
       "\n",
       "[157 rows x 7 columns]"
      ]
     },
     "execution_count": 56,
     "metadata": {},
     "output_type": "execute_result"
    }
   ],
   "source": [
    "std_adm_dirty == 24"
   ]
  },
  {
   "cell_type": "markdown",
   "metadata": {},
   "source": [
    "2. You may be use the equals operator to compare two DataFrames with one another on an element-by-element basis. Take, for instance. `std_adm_cat` against, as follows. Note that `NaN` values will be displayed as false."
   ]
  },
  {
   "cell_type": "code",
   "execution_count": 57,
   "metadata": {},
   "outputs": [],
   "source": [
    "std_adm_cat = std_adm_dirty[cat_student].copy()"
   ]
  },
  {
   "cell_type": "code",
   "execution_count": 58,
   "metadata": {},
   "outputs": [
    {
     "data": {
      "text/html": [
       "<div>\n",
       "<style scoped>\n",
       "    .dataframe tbody tr th:only-of-type {\n",
       "        vertical-align: middle;\n",
       "    }\n",
       "\n",
       "    .dataframe tbody tr th {\n",
       "        vertical-align: top;\n",
       "    }\n",
       "\n",
       "    .dataframe thead th {\n",
       "        text-align: right;\n",
       "    }\n",
       "</style>\n",
       "<table border=\"1\" class=\"dataframe\">\n",
       "  <thead>\n",
       "    <tr style=\"text-align: right;\">\n",
       "      <th></th>\n",
       "      <th>name</th>\n",
       "      <th>gender</th>\n",
       "      <th>city</th>\n",
       "      <th>admit_status</th>\n",
       "    </tr>\n",
       "  </thead>\n",
       "  <tbody>\n",
       "    <tr>\n",
       "      <th>0</th>\n",
       "      <td>Shehroz</td>\n",
       "      <td>Female</td>\n",
       "      <td>Quetta</td>\n",
       "      <td>Rejected</td>\n",
       "    </tr>\n",
       "    <tr>\n",
       "      <th>1</th>\n",
       "      <td>Waqar</td>\n",
       "      <td>Female</td>\n",
       "      <td>Karachi</td>\n",
       "      <td>NaN</td>\n",
       "    </tr>\n",
       "    <tr>\n",
       "      <th>2</th>\n",
       "      <td>Bushra</td>\n",
       "      <td>Male</td>\n",
       "      <td>Islamabad</td>\n",
       "      <td>Accepted</td>\n",
       "    </tr>\n",
       "    <tr>\n",
       "      <th>3</th>\n",
       "      <td>Aliya</td>\n",
       "      <td>Male</td>\n",
       "      <td>Karachi</td>\n",
       "      <td>Rejected</td>\n",
       "    </tr>\n",
       "    <tr>\n",
       "      <th>4</th>\n",
       "      <td>Bilal</td>\n",
       "      <td>Male</td>\n",
       "      <td>Lahore</td>\n",
       "      <td>NaN</td>\n",
       "    </tr>\n",
       "  </tbody>\n",
       "</table>\n",
       "</div>"
      ],
      "text/plain": [
       "      name  gender       city admit_status\n",
       "0  Shehroz  Female     Quetta     Rejected\n",
       "1    Waqar  Female    Karachi          NaN\n",
       "2   Bushra    Male  Islamabad     Accepted\n",
       "3    Aliya    Male    Karachi     Rejected\n",
       "4    Bilal    Male     Lahore          NaN"
      ]
     },
     "execution_count": 58,
     "metadata": {},
     "output_type": "execute_result"
    }
   ],
   "source": [
    "std_adm_cat.head()"
   ]
  },
  {
   "cell_type": "code",
   "execution_count": 59,
   "metadata": {},
   "outputs": [
    {
     "data": {
      "text/html": [
       "<div>\n",
       "<style scoped>\n",
       "    .dataframe tbody tr th:only-of-type {\n",
       "        vertical-align: middle;\n",
       "    }\n",
       "\n",
       "    .dataframe tbody tr th {\n",
       "        vertical-align: top;\n",
       "    }\n",
       "\n",
       "    .dataframe thead th {\n",
       "        text-align: right;\n",
       "    }\n",
       "</style>\n",
       "<table border=\"1\" class=\"dataframe\">\n",
       "  <thead>\n",
       "    <tr style=\"text-align: right;\">\n",
       "      <th></th>\n",
       "      <th>name</th>\n",
       "      <th>gender</th>\n",
       "      <th>city</th>\n",
       "      <th>admit_status</th>\n",
       "    </tr>\n",
       "  </thead>\n",
       "  <tbody>\n",
       "    <tr>\n",
       "      <th>0</th>\n",
       "      <td>True</td>\n",
       "      <td>True</td>\n",
       "      <td>True</td>\n",
       "      <td>True</td>\n",
       "    </tr>\n",
       "    <tr>\n",
       "      <th>1</th>\n",
       "      <td>True</td>\n",
       "      <td>True</td>\n",
       "      <td>True</td>\n",
       "      <td>False</td>\n",
       "    </tr>\n",
       "    <tr>\n",
       "      <th>2</th>\n",
       "      <td>True</td>\n",
       "      <td>True</td>\n",
       "      <td>True</td>\n",
       "      <td>True</td>\n",
       "    </tr>\n",
       "    <tr>\n",
       "      <th>3</th>\n",
       "      <td>True</td>\n",
       "      <td>True</td>\n",
       "      <td>True</td>\n",
       "      <td>True</td>\n",
       "    </tr>\n",
       "    <tr>\n",
       "      <th>4</th>\n",
       "      <td>True</td>\n",
       "      <td>True</td>\n",
       "      <td>True</td>\n",
       "      <td>False</td>\n",
       "    </tr>\n",
       "  </tbody>\n",
       "</table>\n",
       "</div>"
      ],
      "text/plain": [
       "   name  gender  city  admit_status\n",
       "0  True    True  True          True\n",
       "1  True    True  True         False\n",
       "2  True    True  True          True\n",
       "3  True    True  True          True\n",
       "4  True    True  True         False"
      ]
     },
     "execution_count": 59,
     "metadata": {},
     "output_type": "execute_result"
    }
   ],
   "source": [
    "std_adm_cat_self_compare = std_adm_cat == std_adm_cat\n",
    "std_adm_cat_self_compare.head()"
   ]
  },
  {
   "cell_type": "markdown",
   "metadata": {},
   "source": [
    "3. Use the `.all` method to determine if each column contains only `True` values yields an unexpected result."
   ]
  },
  {
   "cell_type": "code",
   "execution_count": 60,
   "metadata": {},
   "outputs": [
    {
     "data": {
      "text/plain": [
       "name            False\n",
       "gender          False\n",
       "city            False\n",
       "admit_status    False\n",
       "dtype: bool"
      ]
     },
     "execution_count": 60,
     "metadata": {},
     "output_type": "execute_result"
    }
   ],
   "source": [
    "std_adm_cat_self_compare.all()"
   ]
  },
  {
   "cell_type": "markdown",
   "metadata": {},
   "source": [
    "This happens because missing values do not compare equally with one another. If you tried to count missing values using the equal operator and summing up the `Boolean` columns, you woud get zero for each one"
   ]
  },
  {
   "cell_type": "code",
   "execution_count": 61,
   "metadata": {},
   "outputs": [
    {
     "data": {
      "text/plain": [
       "name             0\n",
       "gender           0\n",
       "city             0\n",
       "admit_status     0\n",
       "test_score       0\n",
       "hs_percentage    0\n",
       "age              0\n",
       "dtype: Int64"
      ]
     },
     "execution_count": 61,
     "metadata": {},
     "output_type": "execute_result"
    }
   ],
   "source": [
    "(std_adm_dirty == np.nan).sum()"
   ]
  },
  {
   "cell_type": "markdown",
   "metadata": {},
   "source": [
    "Instead of using `==` to find mussing numbers, use the `.isna` method"
   ]
  },
  {
   "cell_type": "code",
   "execution_count": 62,
   "metadata": {},
   "outputs": [
    {
     "data": {
      "text/plain": [
       "name             10\n",
       "gender           10\n",
       "city             10\n",
       "admit_status     10\n",
       "test_score       11\n",
       "hs_percentage    11\n",
       "age              10\n",
       "dtype: int64"
      ]
     },
     "execution_count": 62,
     "metadata": {},
     "output_type": "execute_result"
    }
   ],
   "source": [
    "missing_values = std_adm_dirty.isna().sum()\n",
    "missing_values"
   ]
  },
  {
   "cell_type": "markdown",
   "metadata": {},
   "source": [
    "4. The correct way to compare two entire DataFrames with one another is not with the equals operator (==) but with the `.equals` method. This Method treats `NaNs` that are in the same locations as equal"
   ]
  },
  {
   "cell_type": "code",
   "execution_count": 64,
   "metadata": {},
   "outputs": [
    {
     "data": {
      "text/plain": [
       "True"
      ]
     },
     "execution_count": 64,
     "metadata": {},
     "output_type": "execute_result"
    }
   ],
   "source": [
    "std_adm_cat.equals(std_adm_cat)"
   ]
  },
  {
   "cell_type": "markdown",
   "metadata": {},
   "source": [
    "5. Inside the `pandas.testing` sub-package, a function exists that developers should use when creating unit tests. The `assert_frame_equal` function raises an `AssertionError` if two DataFrames are not equal. It returns `None` if the two DataFrames are equal. "
   ]
  },
  {
   "cell_type": "code",
   "execution_count": 70,
   "metadata": {},
   "outputs": [
    {
     "data": {
      "text/plain": [
       "True"
      ]
     },
     "execution_count": 70,
     "metadata": {},
     "output_type": "execute_result"
    }
   ],
   "source": [
    "from pandas.testing import assert_frame_equal\n",
    "assert_frame_equal(std_adm_cat,std_adm_cat) is None"
   ]
  },
  {
   "cell_type": "markdown",
   "metadata": {},
   "source": [
    "## 2.2 Transposing the Direction of a DataFrame Operation\n",
    "\n",
    "The `axis` parameter controls the direction in which the operations takes place. Axis parameters can be `index` (or `0`) or `columns` (or `1`). Nearly all DataFrames methods default the axis parameter to `0`, which applies to operations along the index. This recipe shows you how to invoke the same method along both axes."
   ]
  },
  {
   "cell_type": "code",
   "execution_count": 71,
   "metadata": {},
   "outputs": [
    {
     "data": {
      "text/html": [
       "<div>\n",
       "<style scoped>\n",
       "    .dataframe tbody tr th:only-of-type {\n",
       "        vertical-align: middle;\n",
       "    }\n",
       "\n",
       "    .dataframe tbody tr th {\n",
       "        vertical-align: top;\n",
       "    }\n",
       "\n",
       "    .dataframe thead th {\n",
       "        text-align: right;\n",
       "    }\n",
       "</style>\n",
       "<table border=\"1\" class=\"dataframe\">\n",
       "  <thead>\n",
       "    <tr style=\"text-align: right;\">\n",
       "      <th></th>\n",
       "      <th>name</th>\n",
       "      <th>gender</th>\n",
       "      <th>city</th>\n",
       "      <th>admit_status</th>\n",
       "      <th>test_score</th>\n",
       "      <th>hs_percentage</th>\n",
       "      <th>age</th>\n",
       "    </tr>\n",
       "  </thead>\n",
       "  <tbody>\n",
       "    <tr>\n",
       "      <th>0</th>\n",
       "      <td>Shehroz</td>\n",
       "      <td>Female</td>\n",
       "      <td>Quetta</td>\n",
       "      <td>Rejected</td>\n",
       "      <td>50.0</td>\n",
       "      <td>68.90</td>\n",
       "      <td>24</td>\n",
       "    </tr>\n",
       "    <tr>\n",
       "      <th>1</th>\n",
       "      <td>Waqar</td>\n",
       "      <td>Female</td>\n",
       "      <td>Karachi</td>\n",
       "      <td>NaN</td>\n",
       "      <td>99.0</td>\n",
       "      <td>60.73</td>\n",
       "      <td>21</td>\n",
       "    </tr>\n",
       "    <tr>\n",
       "      <th>2</th>\n",
       "      <td>Bushra</td>\n",
       "      <td>Male</td>\n",
       "      <td>Islamabad</td>\n",
       "      <td>Accepted</td>\n",
       "      <td>89.0</td>\n",
       "      <td>NaN</td>\n",
       "      <td>17</td>\n",
       "    </tr>\n",
       "    <tr>\n",
       "      <th>3</th>\n",
       "      <td>Aliya</td>\n",
       "      <td>Male</td>\n",
       "      <td>Karachi</td>\n",
       "      <td>Rejected</td>\n",
       "      <td>55.0</td>\n",
       "      <td>85.29</td>\n",
       "      <td>17</td>\n",
       "    </tr>\n",
       "    <tr>\n",
       "      <th>4</th>\n",
       "      <td>Bilal</td>\n",
       "      <td>Male</td>\n",
       "      <td>Lahore</td>\n",
       "      <td>NaN</td>\n",
       "      <td>65.0</td>\n",
       "      <td>61.13</td>\n",
       "      <td>20</td>\n",
       "    </tr>\n",
       "  </tbody>\n",
       "</table>\n",
       "</div>"
      ],
      "text/plain": [
       "      name  gender       city admit_status  test_score  hs_percentage  age\n",
       "0  Shehroz  Female     Quetta     Rejected        50.0          68.90   24\n",
       "1    Waqar  Female    Karachi          NaN        99.0          60.73   21\n",
       "2   Bushra    Male  Islamabad     Accepted        89.0            NaN   17\n",
       "3    Aliya    Male    Karachi     Rejected        55.0          85.29   17\n",
       "4    Bilal    Male     Lahore          NaN        65.0          61.13   20"
      ]
     },
     "execution_count": 71,
     "metadata": {},
     "output_type": "execute_result"
    }
   ],
   "source": [
    "std_adm_dirty.head()"
   ]
  },
  {
   "cell_type": "markdown",
   "metadata": {},
   "source": [
    "1. Group the dataset by `City`."
   ]
  },
  {
   "cell_type": "code",
   "execution_count": 101,
   "metadata": {},
   "outputs": [],
   "source": [
    "grouped_std_adm = std_adm_dirty.groupby('city')"
   ]
  },
  {
   "cell_type": "markdown",
   "metadata": {},
   "source": [
    "2. Now that the DataFrame contains homogenous column data, operations can be sensibily done both vertically and horizontally. The `count` method returns the number of non-missing values. By default, its `axis` parameter is set to `0`."
   ]
  },
  {
   "cell_type": "code",
   "execution_count": 102,
   "metadata": {},
   "outputs": [
    {
     "data": {
      "text/html": [
       "<div>\n",
       "<style scoped>\n",
       "    .dataframe tbody tr th:only-of-type {\n",
       "        vertical-align: middle;\n",
       "    }\n",
       "\n",
       "    .dataframe tbody tr th {\n",
       "        vertical-align: top;\n",
       "    }\n",
       "\n",
       "    .dataframe thead th {\n",
       "        text-align: right;\n",
       "    }\n",
       "</style>\n",
       "<table border=\"1\" class=\"dataframe\">\n",
       "  <thead>\n",
       "    <tr style=\"text-align: right;\">\n",
       "      <th></th>\n",
       "      <th>name</th>\n",
       "      <th>gender</th>\n",
       "      <th>admit_status</th>\n",
       "      <th>test_score</th>\n",
       "      <th>hs_percentage</th>\n",
       "      <th>age</th>\n",
       "    </tr>\n",
       "    <tr>\n",
       "      <th>city</th>\n",
       "      <th></th>\n",
       "      <th></th>\n",
       "      <th></th>\n",
       "      <th></th>\n",
       "      <th></th>\n",
       "      <th></th>\n",
       "    </tr>\n",
       "  </thead>\n",
       "  <tbody>\n",
       "    <tr>\n",
       "      <th>Islamabad</th>\n",
       "      <td>14</td>\n",
       "      <td>16</td>\n",
       "      <td>16</td>\n",
       "      <td>16</td>\n",
       "      <td>14</td>\n",
       "      <td>14</td>\n",
       "    </tr>\n",
       "    <tr>\n",
       "      <th>Karachi</th>\n",
       "      <td>25</td>\n",
       "      <td>27</td>\n",
       "      <td>26</td>\n",
       "      <td>25</td>\n",
       "      <td>26</td>\n",
       "      <td>28</td>\n",
       "    </tr>\n",
       "    <tr>\n",
       "      <th>Lahore</th>\n",
       "      <td>17</td>\n",
       "      <td>16</td>\n",
       "      <td>16</td>\n",
       "      <td>16</td>\n",
       "      <td>15</td>\n",
       "      <td>15</td>\n",
       "    </tr>\n",
       "    <tr>\n",
       "      <th>Multan</th>\n",
       "      <td>21</td>\n",
       "      <td>21</td>\n",
       "      <td>21</td>\n",
       "      <td>20</td>\n",
       "      <td>21</td>\n",
       "      <td>20</td>\n",
       "    </tr>\n",
       "    <tr>\n",
       "      <th>Peshawar</th>\n",
       "      <td>17</td>\n",
       "      <td>18</td>\n",
       "      <td>18</td>\n",
       "      <td>18</td>\n",
       "      <td>16</td>\n",
       "      <td>18</td>\n",
       "    </tr>\n",
       "    <tr>\n",
       "      <th>Quetta</th>\n",
       "      <td>29</td>\n",
       "      <td>25</td>\n",
       "      <td>29</td>\n",
       "      <td>28</td>\n",
       "      <td>30</td>\n",
       "      <td>27</td>\n",
       "    </tr>\n",
       "    <tr>\n",
       "      <th>Rawalpindi</th>\n",
       "      <td>15</td>\n",
       "      <td>15</td>\n",
       "      <td>14</td>\n",
       "      <td>14</td>\n",
       "      <td>14</td>\n",
       "      <td>15</td>\n",
       "    </tr>\n",
       "  </tbody>\n",
       "</table>\n",
       "</div>"
      ],
      "text/plain": [
       "            name  gender  admit_status  test_score  hs_percentage  age\n",
       "city                                                                  \n",
       "Islamabad     14      16            16          16             14   14\n",
       "Karachi       25      27            26          25             26   28\n",
       "Lahore        17      16            16          16             15   15\n",
       "Multan        21      21            21          20             21   20\n",
       "Peshawar      17      18            18          18             16   18\n",
       "Quetta        29      25            29          28             30   27\n",
       "Rawalpindi    15      15            14          14             14   15"
      ]
     },
     "execution_count": 102,
     "metadata": {},
     "output_type": "execute_result"
    }
   ],
   "source": [
    "grouped_std_adm.count()"
   ]
  },
  {
   "cell_type": "markdown",
   "metadata": {},
   "source": [
    "3. Change the axis parameter to `columns` changes the direction of the operation  so that we get back a count of non-missing items in each row"
   ]
  },
  {
   "cell_type": "code",
   "execution_count": 105,
   "metadata": {},
   "outputs": [
    {
     "data": {
      "text/plain": [
       "city\n",
       "Islamabad     90\n",
       "Karachi      157\n",
       "Lahore        95\n",
       "Multan       124\n",
       "Peshawar     105\n",
       "dtype: Int64"
      ]
     },
     "execution_count": 105,
     "metadata": {},
     "output_type": "execute_result"
    }
   ],
   "source": [
    "grouped_counts = grouped_std_adm.count()\n",
    "grouped_counts.sum(axis=1).head()"
   ]
  },
  {
   "cell_type": "markdown",
   "metadata": {},
   "source": [
    "4. Instead of counting non-missing values, we can sum all the values in each row. The `.sum` method may be used to verify this"
   ]
  },
  {
   "cell_type": "code",
   "execution_count": 106,
   "metadata": {},
   "outputs": [
    {
     "data": {
      "text/plain": [
       "city\n",
       "Islamabad     90\n",
       "Karachi      157\n",
       "Lahore        95\n",
       "Multan       124\n",
       "Peshawar     105\n",
       "dtype: Int64"
      ]
     },
     "execution_count": 106,
     "metadata": {},
     "output_type": "execute_result"
    }
   ],
   "source": [
    "grouped_counts.sum(axis=\"columns\").head()"
   ]
  },
  {
   "cell_type": "code",
   "execution_count": 107,
   "metadata": {},
   "outputs": [
    {
     "data": {
      "text/plain": [
       "name             17.0\n",
       "gender           18.0\n",
       "admit_status     18.0\n",
       "test_score       18.0\n",
       "hs_percentage    16.0\n",
       "age              18.0\n",
       "dtype: Float64"
      ]
     },
     "execution_count": 107,
     "metadata": {},
     "output_type": "execute_result"
    }
   ],
   "source": [
    "grouped_counts.median(axis=\"index\")"
   ]
  },
  {
   "cell_type": "markdown",
   "metadata": {},
   "source": [
    "5. The `.cumsum` method with `axis=1` accumulates the arce percentages accross each row. It gives a slightly different view of the data."
   ]
  },
  {
   "cell_type": "code",
   "execution_count": 111,
   "metadata": {},
   "outputs": [
    {
     "data": {
      "text/html": [
       "<div>\n",
       "<style scoped>\n",
       "    .dataframe tbody tr th:only-of-type {\n",
       "        vertical-align: middle;\n",
       "    }\n",
       "\n",
       "    .dataframe tbody tr th {\n",
       "        vertical-align: top;\n",
       "    }\n",
       "\n",
       "    .dataframe thead th {\n",
       "        text-align: right;\n",
       "    }\n",
       "</style>\n",
       "<table border=\"1\" class=\"dataframe\">\n",
       "  <thead>\n",
       "    <tr style=\"text-align: right;\">\n",
       "      <th></th>\n",
       "      <th>name</th>\n",
       "      <th>gender</th>\n",
       "      <th>admit_status</th>\n",
       "      <th>test_score</th>\n",
       "      <th>hs_percentage</th>\n",
       "      <th>age</th>\n",
       "    </tr>\n",
       "    <tr>\n",
       "      <th>city</th>\n",
       "      <th></th>\n",
       "      <th></th>\n",
       "      <th></th>\n",
       "      <th></th>\n",
       "      <th></th>\n",
       "      <th></th>\n",
       "    </tr>\n",
       "  </thead>\n",
       "  <tbody>\n",
       "    <tr>\n",
       "      <th>Islamabad</th>\n",
       "      <td>14</td>\n",
       "      <td>16</td>\n",
       "      <td>16</td>\n",
       "      <td>16</td>\n",
       "      <td>14</td>\n",
       "      <td>14</td>\n",
       "    </tr>\n",
       "    <tr>\n",
       "      <th>Karachi</th>\n",
       "      <td>39</td>\n",
       "      <td>43</td>\n",
       "      <td>42</td>\n",
       "      <td>41</td>\n",
       "      <td>40</td>\n",
       "      <td>42</td>\n",
       "    </tr>\n",
       "    <tr>\n",
       "      <th>Lahore</th>\n",
       "      <td>56</td>\n",
       "      <td>59</td>\n",
       "      <td>58</td>\n",
       "      <td>57</td>\n",
       "      <td>55</td>\n",
       "      <td>57</td>\n",
       "    </tr>\n",
       "    <tr>\n",
       "      <th>Multan</th>\n",
       "      <td>77</td>\n",
       "      <td>80</td>\n",
       "      <td>79</td>\n",
       "      <td>77</td>\n",
       "      <td>76</td>\n",
       "      <td>77</td>\n",
       "    </tr>\n",
       "    <tr>\n",
       "      <th>Peshawar</th>\n",
       "      <td>94</td>\n",
       "      <td>98</td>\n",
       "      <td>97</td>\n",
       "      <td>95</td>\n",
       "      <td>92</td>\n",
       "      <td>95</td>\n",
       "    </tr>\n",
       "  </tbody>\n",
       "</table>\n",
       "</div>"
      ],
      "text/plain": [
       "           name  gender  admit_status  test_score  hs_percentage  age\n",
       "city                                                                 \n",
       "Islamabad    14      16            16          16             14   14\n",
       "Karachi      39      43            42          41             40   42\n",
       "Lahore       56      59            58          57             55   57\n",
       "Multan       77      80            79          77             76   77\n",
       "Peshawar     94      98            97          95             92   95"
      ]
     },
     "execution_count": 111,
     "metadata": {},
     "output_type": "execute_result"
    }
   ],
   "source": [
    "grouped_std_adm_cumsum = grouped_counts.cumsum()\n",
    "grouped_std_adm_cumsum.head()"
   ]
  },
  {
   "cell_type": "markdown",
   "metadata": {},
   "source": [
    "# 3. Special Exercise: University Admissions Analysis"
   ]
  },
  {
   "cell_type": "markdown",
   "metadata": {},
   "source": [
    "### **Dataset**: `Student Admission Records`  \n",
    "**Description:** Contains information about the university admission process, including test scores, high school percentages, city of origin, and admission status.  \n",
    "\n",
    "---\n",
    "\n",
    "### **Objective**  \n",
    "Use the key Pandas operations learned in Chapter 2 to analyze the admissions dataset and answer important questions about the data.\n",
    "\n",
    "---\n",
    "\n",
    "### **Questions and Tasks**  \n",
    "\n",
    "#### **1. Data Exploration**  \n",
    "1. Load the dataset into a Pandas `DataFrame`.  \n",
    "2. Display the first 5 rows of the DataFrame.  \n",
    "3. What are the dataset's columns?  \n",
    "\n",
    "#### **2. Selecting and Manipulating Columns**  \n",
    "4. Select the columns `admission_status`, `high_school_percentage`, and `admission_test_score`.  \n",
    "5. Rename the selected columns to `status`, `hs_score`, and `test_score`, respectively.  \n",
    "\n",
    "#### **3. Sorting and Summarizing Data**  \n",
    "6. Sort the DataFrame by `hs_score` in descending order and display the top 5 rows.  \n",
    "7. Compute the average of `hs_score` and `test_score`.  \n",
    "8. Count how many students were admitted and how many were rejected.  \n",
    "\n",
    "#### **4. Handling Missing Values and Advanced Operations**  \n",
    "9. Identify if there are any missing values in the dataset.  \n",
    "10. If `hs_score` or `test_score` contain missing values, replace them with the median of each column.  \n",
    "11. Create a new column called `final_score`, which is the average of `hs_score` and `test_score`.  \n",
    "12. Normalize the values in `final_score` to a range of 0 to 1.  \n",
    "\n",
    "#### **5. Data Analysis and Visualization**  \n",
    "13. Which city has the most admitted students?  \n",
    "14. How does the average admission test score (`test_score`) differ between admitted and rejected students?  \n",
    "15. Transpose the DataFrame so that columns become rows and vice versa.  \n",
    "\n",
    "---\n",
    "\n",
    "### **Hint:**  \n",
    "You can use methods like `.loc[]`, `.rename()`, `.sort_values()`, `.groupby()`, `.fillna()`, `.apply()`, `.transpose()`, and others covered in this chapter.  \n",
    "\n",
    "---\n",
    "\n",
    "This exercise challenges students to apply all the concepts learned in the chapter to a real-world scenario. 🚀"
   ]
  }
 ],
 "metadata": {
  "kernelspec": {
   "display_name": "Python 3",
   "language": "python",
   "name": "python3"
  },
  "language_info": {
   "codemirror_mode": {
    "name": "ipython",
    "version": 3
   },
   "file_extension": ".py",
   "mimetype": "text/x-python",
   "name": "python",
   "nbconvert_exporter": "python",
   "pygments_lexer": "ipython3",
   "version": "3.12.6"
  }
 },
 "nbformat": 4,
 "nbformat_minor": 2
}

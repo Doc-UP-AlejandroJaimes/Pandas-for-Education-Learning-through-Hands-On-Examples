{
 "cells": [
  {
   "cell_type": "code",
   "execution_count": 1,
   "metadata": {},
   "outputs": [],
   "source": [
    "import pandas as pd\n",
    "import os"
   ]
  },
  {
   "cell_type": "code",
   "execution_count": 9,
   "metadata": {},
   "outputs": [
    {
     "name": "stdout",
     "output_type": "stream",
     "text": [
      "../datasets/movies-kaggle-df\\mymoviedb.csv\n"
     ]
    }
   ],
   "source": [
    "for dirname, _, filenames in os.walk('../datasets/movies-kaggle-df'):\n",
    "    for filename in filenames:\n",
    "        print(os.path.join(dirname, filename))"
   ]
  },
  {
   "cell_type": "code",
   "execution_count": 10,
   "metadata": {},
   "outputs": [],
   "source": [
    "# read file\n",
    "path_file = '../datasets/movies-kaggle-df/mymoviedb.csv'\n",
    "movies = pd.read_csv(path_file, engine='python', on_bad_lines='skip', quotechar='\"')"
   ]
  },
  {
   "cell_type": "markdown",
   "metadata": {},
   "source": [
    "#### **Exercise 1: Understanding the Anatomy of a DataFrame**\n",
    "**Objective:** Identify the structure of a DataFrame.\n",
    "\n",
    "##### **Task:**\n",
    "1. Print the first and last 5 rows of the dataset."
   ]
  },
  {
   "cell_type": "code",
   "execution_count": 17,
   "metadata": {},
   "outputs": [
    {
     "name": "stdout",
     "output_type": "stream",
     "text": [
      "[['2021-12-15' 'Spider-Man: No Way Home'\n",
      "  'Peter Parker is unmasked and no longer able to separate his normal life from the high-stakes of being a super-hero. When he asks for help from Doctor Strange the stakes become even more dangerous, forcing him to discover what it truly means to be Spider-Man.'\n",
      "  5083.954 '8940' '8.3' 'en' 'Action, Adventure, Science Fiction'\n",
      "  'https://image.tmdb.org/t/p/original/1g0dhYtq4irTY1GPXvft6k4YLjm.jpg']\n",
      " ['2022-03-01' 'The Batman'\n",
      "  'In his second year of fighting crime, Batman uncovers corruption in Gotham City that connects to his own family while facing a serial killer known as the Riddler.'\n",
      "  3827.658 '1151' '8.1' 'en' 'Crime, Mystery, Thriller'\n",
      "  'https://image.tmdb.org/t/p/original/74xTEgt7R36Fpooo50r9T25onhq.jpg']\n",
      " ['2022-02-25' 'No Exit'\n",
      "  'Stranded at a rest stop in the mountains during a blizzard, a recovering addict discovers a kidnapped child hidden in a car belonging to one of the people inside the building which sets her on a terrifying struggle to identify who among them is the kidnapper.'\n",
      "  2618.087 '122' '6.3' 'en' 'Thriller'\n",
      "  'https://image.tmdb.org/t/p/original/vDHsLnOWKlPGmWs0kGfuhNF4w5l.jpg']\n",
      " ['2021-11-24' 'Encanto'\n",
      "  \"The tale of an extraordinary family, the Madrigals, who live hidden in the mountains of Colombia, in a magical house, in a vibrant town, in a wondrous, charmed place called an Encanto. The magic of the Encanto has blessed every child in the family with a unique gift from super strength to the power to heal—every child except one, Mirabel. But when she discovers that the magic surrounding the Encanto is in danger, Mirabel decides that she, the only ordinary Madrigal, might just be her exceptional family's last hope.\"\n",
      "  2402.201 '5076' '7.7' 'en' 'Animation, Comedy, Family, Fantasy'\n",
      "  'https://image.tmdb.org/t/p/original/4j0PNHkMr5ax3IA8tjtxcmPU3QT.jpg']\n",
      " ['2021-12-22' \"The King's Man\"\n",
      "  \"As a collection of history's worst tyrants and criminal masterminds gather to plot a war to wipe out millions, one man must race against time to stop them.\"\n",
      "  1895.511 '1793' '7.0' 'en' 'Action, Adventure, Thriller, War'\n",
      "  'https://image.tmdb.org/t/p/original/aq4Pwv5Xeuvj6HZKtxyd23e6bE9.jpg']]\n",
      "=============================================\n",
      "[['1973-10-15' 'Badlands'\n",
      "  'A dramatization of the Starkweather-Fugate killing spree of the 1950s, in which a teenage girl and her twenty-something boyfriend slaughtered her entire family and several others in the Dakota badlands.'\n",
      "  13.357 '896' '7.6' 'en' 'Drama, Crime'\n",
      "  'https://image.tmdb.org/t/p/original/z81rBzHNgiNLean2JTGHgxjJ8nq.jpg']\n",
      " ['2020-10-01' 'Violent Delights'\n",
      "  'A female vampire falls in love with a man she met in a bar. A male vampire invites a pregnant woman and her friends to watch his theatre play. These two vampires are husband and wife.'\n",
      "  13.356 '8' '3.5' 'es' 'Horror'\n",
      "  'https://image.tmdb.org/t/p/original/4b6HY7rud6LMO00EatxrJfFaBJV.jpg']\n",
      " ['2016-05-06' 'The Offering'\n",
      "  \"When young and successful reporter Jamie finds out that her sister has died in mysterious circumstances, she travels to Singapore to uncover the truth. There, she discovers multiple deaths linked to her sister's and must join forces with her sister's husband in order to defeat a demonic entity that is using new technology to complete an ancient mission.\"\n",
      "  13.355 '94' '5.0' 'en' 'Mystery, Thriller, Horror'\n",
      "  'https://image.tmdb.org/t/p/original/h4uMM1wOhzGpP5GNphloNEHT0jz.jpg']\n",
      " ['2021-03-31' 'The United States vs. Billie Holiday'\n",
      "  'Billie Holiday spent much of her career being adored by fans. In the 1940s, the government targeted Holiday in a growing effort to racialize the war on drugs, ultimately aiming to stop her from singing her controversial ballad, \"Strange Fruit.\"'\n",
      "  13.354 '152' '6.7' 'en' 'Music, Drama, History'\n",
      "  'https://image.tmdb.org/t/p/original/vEzkxuE2sJcmHYjXQHM8xvR9ICH.jpg']\n",
      " ['1984-09-23' 'Threads'\n",
      "  'Documentary style account of a nuclear holocaust and its effect on the working class city of Sheffield, England; and the eventual long run effects of nuclear war on civilization.'\n",
      "  13.354 '186' '7.8' 'en' 'War, Drama, Science Fiction'\n",
      "  'https://image.tmdb.org/t/p/original/lBhU4U9Eehr9shstPem6I7BdkxK.jpg']]\n"
     ]
    }
   ],
   "source": [
    "print(movies.head().to_numpy()) # first 5 titles\n",
    "print(\"=============================================\")\n",
    "print(movies.tail().to_numpy()) # last 5 titles"
   ]
  },
  {
   "cell_type": "markdown",
   "metadata": {},
   "source": [
    "2. Display the number of rows and columns."
   ]
  },
  {
   "cell_type": "code",
   "execution_count": 15,
   "metadata": {},
   "outputs": [
    {
     "name": "stdout",
     "output_type": "stream",
     "text": [
      "Number of rows: 9837\n",
      "Number of columns: 9\n"
     ]
    }
   ],
   "source": [
    "movies_shape = movies.shape\n",
    "print(f'Number of rows: {movies_shape[0]}\\nNumber of columns: {movies_shape[1]}')"
   ]
  },
  {
   "cell_type": "markdown",
   "metadata": {},
   "source": [
    "3. Retrieve a summary of the dataset."
   ]
  },
  {
   "cell_type": "code",
   "execution_count": 16,
   "metadata": {},
   "outputs": [
    {
     "name": "stdout",
     "output_type": "stream",
     "text": [
      "<class 'pandas.core.frame.DataFrame'>\n",
      "RangeIndex: 9837 entries, 0 to 9836\n",
      "Data columns (total 9 columns):\n",
      " #   Column             Non-Null Count  Dtype  \n",
      "---  ------             --------------  -----  \n",
      " 0   Release_Date       9837 non-null   object \n",
      " 1   Title              9828 non-null   object \n",
      " 2   Overview           9828 non-null   object \n",
      " 3   Popularity         9827 non-null   float64\n",
      " 4   Vote_Count         9827 non-null   object \n",
      " 5   Vote_Average       9827 non-null   object \n",
      " 6   Original_Language  9827 non-null   object \n",
      " 7   Genre              9826 non-null   object \n",
      " 8   Poster_Url         9826 non-null   object \n",
      "dtypes: float64(1), object(8)\n",
      "memory usage: 691.8+ KB\n"
     ]
    }
   ],
   "source": [
    "movies.info()"
   ]
  },
  {
   "cell_type": "markdown",
   "metadata": {},
   "source": [
    "#### **Exercise 2: Exploring DataFrame Attributes**\n",
    "**Objective:** Understand and access key DataFrame attributes.\n",
    "\n",
    "##### **Task:**\n",
    "1. Print the column names of the dataset."
   ]
  },
  {
   "cell_type": "code",
   "execution_count": 18,
   "metadata": {},
   "outputs": [
    {
     "data": {
      "text/plain": [
       "['Release_Date',\n",
       " 'Title',\n",
       " 'Overview',\n",
       " 'Popularity',\n",
       " 'Vote_Count',\n",
       " 'Vote_Average',\n",
       " 'Original_Language',\n",
       " 'Genre',\n",
       " 'Poster_Url']"
      ]
     },
     "execution_count": 18,
     "metadata": {},
     "output_type": "execute_result"
    }
   ],
   "source": [
    "movies.columns.to_list()"
   ]
  },
  {
   "cell_type": "markdown",
   "metadata": {},
   "source": [
    "2. Retrieve a list of column names that contain numerical values."
   ]
  },
  {
   "cell_type": "code",
   "execution_count": 28,
   "metadata": {},
   "outputs": [
    {
     "data": {
      "text/plain": [
       "['Popularity']"
      ]
     },
     "execution_count": 28,
     "metadata": {},
     "output_type": "execute_result"
    }
   ],
   "source": [
    "movies.select_dtypes(include='number').columns.to_list()"
   ]
  },
  {
   "cell_type": "markdown",
   "metadata": {},
   "source": [
    "3. Display the index of the dataset."
   ]
  },
  {
   "cell_type": "code",
   "execution_count": 30,
   "metadata": {},
   "outputs": [
    {
     "data": {
      "text/plain": [
       "RangeIndex(start=0, stop=9837, step=1)"
      ]
     },
     "execution_count": 30,
     "metadata": {},
     "output_type": "execute_result"
    }
   ],
   "source": [
    "movies.index"
   ]
  },
  {
   "cell_type": "markdown",
   "metadata": {},
   "source": [
    "4. Check the dimensions of the dataset."
   ]
  },
  {
   "cell_type": "code",
   "execution_count": 31,
   "metadata": {},
   "outputs": [
    {
     "data": {
      "text/plain": [
       "(9837, 9)"
      ]
     },
     "execution_count": 31,
     "metadata": {},
     "output_type": "execute_result"
    }
   ],
   "source": [
    "movies.shape"
   ]
  },
  {
   "cell_type": "markdown",
   "metadata": {},
   "source": [
    "5. Identify the total memory usage of the dataset."
   ]
  },
  {
   "cell_type": "code",
   "execution_count": 46,
   "metadata": {},
   "outputs": [
    {
     "name": "stdout",
     "output_type": "stream",
     "text": [
      "Memory Used: 7914000\n",
      "<class 'pandas.core.frame.DataFrame'>\n",
      "RangeIndex: 9837 entries, 0 to 9836\n",
      "Data columns (total 9 columns):\n",
      " #   Column             Non-Null Count  Dtype         \n",
      "---  ------             --------------  -----         \n",
      " 0   Release_Date       9827 non-null   datetime64[ns]\n",
      " 1   Title              9828 non-null   object        \n",
      " 2   Overview           9828 non-null   object        \n",
      " 3   Popularity         9827 non-null   float64       \n",
      " 4   Vote_Count         9827 non-null   object        \n",
      " 5   Vote_Average       9827 non-null   object        \n",
      " 6   Original_Language  9827 non-null   object        \n",
      " 7   Genre              9826 non-null   object        \n",
      " 8   Poster_Url         9826 non-null   object        \n",
      "dtypes: datetime64[ns](1), float64(1), object(7)\n",
      "memory usage: 691.8+ KB\n"
     ]
    }
   ],
   "source": [
    "# Identify the total memory usage of the dataset.\n",
    "print(f\"Memory Used: {movies.memory_usage(deep=True).sum()}\")\n",
    "movies.info()"
   ]
  },
  {
   "cell_type": "markdown",
   "metadata": {},
   "source": [
    "#### **Exercise 3: Checking Data Types**\n",
    "**Objective:** Identify the data types of each column.\n",
    "\n",
    "##### **Task:**\n",
    "1. Check the data types of all columns."
   ]
  },
  {
   "cell_type": "code",
   "execution_count": 39,
   "metadata": {},
   "outputs": [
    {
     "data": {
      "text/plain": [
       "object     8\n",
       "float64    1\n",
       "Name: count, dtype: int64"
      ]
     },
     "execution_count": 39,
     "metadata": {},
     "output_type": "execute_result"
    }
   ],
   "source": [
    "movies.dtypes.value_counts()"
   ]
  },
  {
   "cell_type": "markdown",
   "metadata": {},
   "source": [
    "3. Identify which columns contain categorical data."
   ]
  },
  {
   "cell_type": "code",
   "execution_count": 41,
   "metadata": {},
   "outputs": [
    {
     "data": {
      "text/plain": [
       "['Release_Date',\n",
       " 'Title',\n",
       " 'Overview',\n",
       " 'Vote_Count',\n",
       " 'Vote_Average',\n",
       " 'Original_Language',\n",
       " 'Genre',\n",
       " 'Poster_Url']"
      ]
     },
     "execution_count": 41,
     "metadata": {},
     "output_type": "execute_result"
    }
   ],
   "source": [
    "movies.select_dtypes(include='object').columns.to_list()"
   ]
  },
  {
   "cell_type": "markdown",
   "metadata": {},
   "source": [
    "4. Convert the `Release_Date` column to a proper datetime format."
   ]
  },
  {
   "cell_type": "code",
   "execution_count": 42,
   "metadata": {},
   "outputs": [
    {
     "data": {
      "text/plain": [
       "dtype('O')"
      ]
     },
     "execution_count": 42,
     "metadata": {},
     "output_type": "execute_result"
    }
   ],
   "source": [
    "print(movies.Release_Date.dtype)\n",
    "movies['Release_Date'] = pd.to_datetime(movies['Release_Date'], errors='coerce')\n",
    "print(movies.Release_Date.dtype)"
   ]
  },
  {
   "cell_type": "markdown",
   "metadata": {},
   "source": [
    "#### **Exercise 4: Selecting a Column**\n",
    "**Objective:** Extract specific columns from a DataFrame.\n",
    "\n",
    "##### **Task:**\n",
    "1. Select and print the `Title` column."
   ]
  },
  {
   "cell_type": "code",
   "execution_count": 48,
   "metadata": {},
   "outputs": [
    {
     "data": {
      "text/plain": [
       "0    Spider-Man: No Way Home\n",
       "1                 The Batman\n",
       "2                    No Exit\n",
       "3                    Encanto\n",
       "4             The King's Man\n",
       "Name: Title, dtype: object"
      ]
     },
     "execution_count": 48,
     "metadata": {},
     "output_type": "execute_result"
    }
   ],
   "source": [
    "movies['Title'].head()"
   ]
  },
  {
   "cell_type": "markdown",
   "metadata": {},
   "source": [
    "2. Select the `Genre` and `Vote_Average` columns."
   ]
  },
  {
   "cell_type": "code",
   "execution_count": 49,
   "metadata": {},
   "outputs": [
    {
     "data": {
      "text/html": [
       "<div>\n",
       "<style scoped>\n",
       "    .dataframe tbody tr th:only-of-type {\n",
       "        vertical-align: middle;\n",
       "    }\n",
       "\n",
       "    .dataframe tbody tr th {\n",
       "        vertical-align: top;\n",
       "    }\n",
       "\n",
       "    .dataframe thead th {\n",
       "        text-align: right;\n",
       "    }\n",
       "</style>\n",
       "<table border=\"1\" class=\"dataframe\">\n",
       "  <thead>\n",
       "    <tr style=\"text-align: right;\">\n",
       "      <th></th>\n",
       "      <th>Genre</th>\n",
       "      <th>Vote_Average</th>\n",
       "    </tr>\n",
       "  </thead>\n",
       "  <tbody>\n",
       "    <tr>\n",
       "      <th>0</th>\n",
       "      <td>Action, Adventure, Science Fiction</td>\n",
       "      <td>8.3</td>\n",
       "    </tr>\n",
       "    <tr>\n",
       "      <th>1</th>\n",
       "      <td>Crime, Mystery, Thriller</td>\n",
       "      <td>8.1</td>\n",
       "    </tr>\n",
       "    <tr>\n",
       "      <th>2</th>\n",
       "      <td>Thriller</td>\n",
       "      <td>6.3</td>\n",
       "    </tr>\n",
       "    <tr>\n",
       "      <th>3</th>\n",
       "      <td>Animation, Comedy, Family, Fantasy</td>\n",
       "      <td>7.7</td>\n",
       "    </tr>\n",
       "    <tr>\n",
       "      <th>4</th>\n",
       "      <td>Action, Adventure, Thriller, War</td>\n",
       "      <td>7.0</td>\n",
       "    </tr>\n",
       "  </tbody>\n",
       "</table>\n",
       "</div>"
      ],
      "text/plain": [
       "                                Genre Vote_Average\n",
       "0  Action, Adventure, Science Fiction          8.3\n",
       "1            Crime, Mystery, Thriller          8.1\n",
       "2                            Thriller          6.3\n",
       "3  Animation, Comedy, Family, Fantasy          7.7\n",
       "4    Action, Adventure, Thriller, War          7.0"
      ]
     },
     "execution_count": 49,
     "metadata": {},
     "output_type": "execute_result"
    }
   ],
   "source": [
    "movies[['Genre', 'Vote_Average']].head()"
   ]
  },
  {
   "cell_type": "markdown",
   "metadata": {},
   "source": [
    "3. Extract the first 10 movie titles."
   ]
  },
  {
   "cell_type": "code",
   "execution_count": 51,
   "metadata": {},
   "outputs": [
    {
     "data": {
      "text/plain": [
       "0    Spider-Man: No Way Home\n",
       "1                 The Batman\n",
       "2                    No Exit\n",
       "3                    Encanto\n",
       "4             The King's Man\n",
       "5               The Commando\n",
       "6                     Scream\n",
       "7                       Kimi\n",
       "8       Fistful of Vengeance\n",
       "9                   Eternals\n",
       "Name: Title, dtype: object"
      ]
     },
     "execution_count": 51,
     "metadata": {},
     "output_type": "execute_result"
    }
   ],
   "source": [
    "first_ten_movies = movies.loc[:9, 'Title']\n",
    "first_ten_movies"
   ]
  },
  {
   "cell_type": "markdown",
   "metadata": {},
   "source": [
    "4. Select all movies released after 2010."
   ]
  },
  {
   "cell_type": "code",
   "execution_count": 52,
   "metadata": {},
   "outputs": [
    {
     "data": {
      "text/html": [
       "<div>\n",
       "<style scoped>\n",
       "    .dataframe tbody tr th:only-of-type {\n",
       "        vertical-align: middle;\n",
       "    }\n",
       "\n",
       "    .dataframe tbody tr th {\n",
       "        vertical-align: top;\n",
       "    }\n",
       "\n",
       "    .dataframe thead th {\n",
       "        text-align: right;\n",
       "    }\n",
       "</style>\n",
       "<table border=\"1\" class=\"dataframe\">\n",
       "  <thead>\n",
       "    <tr style=\"text-align: right;\">\n",
       "      <th></th>\n",
       "      <th>Release_Date</th>\n",
       "      <th>Title</th>\n",
       "      <th>Overview</th>\n",
       "      <th>Popularity</th>\n",
       "      <th>Vote_Count</th>\n",
       "      <th>Vote_Average</th>\n",
       "      <th>Original_Language</th>\n",
       "      <th>Genre</th>\n",
       "      <th>Poster_Url</th>\n",
       "    </tr>\n",
       "  </thead>\n",
       "  <tbody>\n",
       "    <tr>\n",
       "      <th>0</th>\n",
       "      <td>2021-12-15</td>\n",
       "      <td>Spider-Man: No Way Home</td>\n",
       "      <td>Peter Parker is unmasked and no longer able to...</td>\n",
       "      <td>5083.954</td>\n",
       "      <td>8940</td>\n",
       "      <td>8.3</td>\n",
       "      <td>en</td>\n",
       "      <td>Action, Adventure, Science Fiction</td>\n",
       "      <td>https://image.tmdb.org/t/p/original/1g0dhYtq4i...</td>\n",
       "    </tr>\n",
       "    <tr>\n",
       "      <th>1</th>\n",
       "      <td>2022-03-01</td>\n",
       "      <td>The Batman</td>\n",
       "      <td>In his second year of fighting crime, Batman u...</td>\n",
       "      <td>3827.658</td>\n",
       "      <td>1151</td>\n",
       "      <td>8.1</td>\n",
       "      <td>en</td>\n",
       "      <td>Crime, Mystery, Thriller</td>\n",
       "      <td>https://image.tmdb.org/t/p/original/74xTEgt7R3...</td>\n",
       "    </tr>\n",
       "    <tr>\n",
       "      <th>2</th>\n",
       "      <td>2022-02-25</td>\n",
       "      <td>No Exit</td>\n",
       "      <td>Stranded at a rest stop in the mountains durin...</td>\n",
       "      <td>2618.087</td>\n",
       "      <td>122</td>\n",
       "      <td>6.3</td>\n",
       "      <td>en</td>\n",
       "      <td>Thriller</td>\n",
       "      <td>https://image.tmdb.org/t/p/original/vDHsLnOWKl...</td>\n",
       "    </tr>\n",
       "    <tr>\n",
       "      <th>3</th>\n",
       "      <td>2021-11-24</td>\n",
       "      <td>Encanto</td>\n",
       "      <td>The tale of an extraordinary family, the Madri...</td>\n",
       "      <td>2402.201</td>\n",
       "      <td>5076</td>\n",
       "      <td>7.7</td>\n",
       "      <td>en</td>\n",
       "      <td>Animation, Comedy, Family, Fantasy</td>\n",
       "      <td>https://image.tmdb.org/t/p/original/4j0PNHkMr5...</td>\n",
       "    </tr>\n",
       "    <tr>\n",
       "      <th>4</th>\n",
       "      <td>2021-12-22</td>\n",
       "      <td>The King's Man</td>\n",
       "      <td>As a collection of history's worst tyrants and...</td>\n",
       "      <td>1895.511</td>\n",
       "      <td>1793</td>\n",
       "      <td>7.0</td>\n",
       "      <td>en</td>\n",
       "      <td>Action, Adventure, Thriller, War</td>\n",
       "      <td>https://image.tmdb.org/t/p/original/aq4Pwv5Xeu...</td>\n",
       "    </tr>\n",
       "    <tr>\n",
       "      <th>...</th>\n",
       "      <td>...</td>\n",
       "      <td>...</td>\n",
       "      <td>...</td>\n",
       "      <td>...</td>\n",
       "      <td>...</td>\n",
       "      <td>...</td>\n",
       "      <td>...</td>\n",
       "      <td>...</td>\n",
       "      <td>...</td>\n",
       "    </tr>\n",
       "    <tr>\n",
       "      <th>9826</th>\n",
       "      <td>2015-01-20</td>\n",
       "      <td>The Atticus Institute</td>\n",
       "      <td>In the early 1970s, Dr. Henry West creates an ...</td>\n",
       "      <td>13.364</td>\n",
       "      <td>255</td>\n",
       "      <td>5.7</td>\n",
       "      <td>en</td>\n",
       "      <td>Horror</td>\n",
       "      <td>https://image.tmdb.org/t/p/original/43dvapnp9D...</td>\n",
       "    </tr>\n",
       "    <tr>\n",
       "      <th>9828</th>\n",
       "      <td>2013-08-23</td>\n",
       "      <td>All Is Lost</td>\n",
       "      <td>During a solo voyage in the Indian Ocean, a ve...</td>\n",
       "      <td>13.359</td>\n",
       "      <td>1319</td>\n",
       "      <td>6.6</td>\n",
       "      <td>en</td>\n",
       "      <td>Action, Adventure, Drama</td>\n",
       "      <td>https://image.tmdb.org/t/p/original/9cVA4oX2xH...</td>\n",
       "    </tr>\n",
       "    <tr>\n",
       "      <th>9833</th>\n",
       "      <td>2020-10-01</td>\n",
       "      <td>Violent Delights</td>\n",
       "      <td>A female vampire falls in love with a man she ...</td>\n",
       "      <td>13.356</td>\n",
       "      <td>8</td>\n",
       "      <td>3.5</td>\n",
       "      <td>es</td>\n",
       "      <td>Horror</td>\n",
       "      <td>https://image.tmdb.org/t/p/original/4b6HY7rud6...</td>\n",
       "    </tr>\n",
       "    <tr>\n",
       "      <th>9834</th>\n",
       "      <td>2016-05-06</td>\n",
       "      <td>The Offering</td>\n",
       "      <td>When young and successful reporter Jamie finds...</td>\n",
       "      <td>13.355</td>\n",
       "      <td>94</td>\n",
       "      <td>5.0</td>\n",
       "      <td>en</td>\n",
       "      <td>Mystery, Thriller, Horror</td>\n",
       "      <td>https://image.tmdb.org/t/p/original/h4uMM1wOhz...</td>\n",
       "    </tr>\n",
       "    <tr>\n",
       "      <th>9835</th>\n",
       "      <td>2021-03-31</td>\n",
       "      <td>The United States vs. Billie Holiday</td>\n",
       "      <td>Billie Holiday spent much of her career being ...</td>\n",
       "      <td>13.354</td>\n",
       "      <td>152</td>\n",
       "      <td>6.7</td>\n",
       "      <td>en</td>\n",
       "      <td>Music, Drama, History</td>\n",
       "      <td>https://image.tmdb.org/t/p/original/vEzkxuE2sJ...</td>\n",
       "    </tr>\n",
       "  </tbody>\n",
       "</table>\n",
       "<p>5383 rows × 9 columns</p>\n",
       "</div>"
      ],
      "text/plain": [
       "     Release_Date                                 Title  \\\n",
       "0      2021-12-15               Spider-Man: No Way Home   \n",
       "1      2022-03-01                            The Batman   \n",
       "2      2022-02-25                               No Exit   \n",
       "3      2021-11-24                               Encanto   \n",
       "4      2021-12-22                        The King's Man   \n",
       "...           ...                                   ...   \n",
       "9826   2015-01-20                 The Atticus Institute   \n",
       "9828   2013-08-23                           All Is Lost   \n",
       "9833   2020-10-01                      Violent Delights   \n",
       "9834   2016-05-06                          The Offering   \n",
       "9835   2021-03-31  The United States vs. Billie Holiday   \n",
       "\n",
       "                                               Overview  Popularity  \\\n",
       "0     Peter Parker is unmasked and no longer able to...    5083.954   \n",
       "1     In his second year of fighting crime, Batman u...    3827.658   \n",
       "2     Stranded at a rest stop in the mountains durin...    2618.087   \n",
       "3     The tale of an extraordinary family, the Madri...    2402.201   \n",
       "4     As a collection of history's worst tyrants and...    1895.511   \n",
       "...                                                 ...         ...   \n",
       "9826  In the early 1970s, Dr. Henry West creates an ...      13.364   \n",
       "9828  During a solo voyage in the Indian Ocean, a ve...      13.359   \n",
       "9833  A female vampire falls in love with a man she ...      13.356   \n",
       "9834  When young and successful reporter Jamie finds...      13.355   \n",
       "9835  Billie Holiday spent much of her career being ...      13.354   \n",
       "\n",
       "     Vote_Count Vote_Average Original_Language  \\\n",
       "0          8940          8.3                en   \n",
       "1          1151          8.1                en   \n",
       "2           122          6.3                en   \n",
       "3          5076          7.7                en   \n",
       "4          1793          7.0                en   \n",
       "...         ...          ...               ...   \n",
       "9826        255          5.7                en   \n",
       "9828       1319          6.6                en   \n",
       "9833          8          3.5                es   \n",
       "9834         94          5.0                en   \n",
       "9835        152          6.7                en   \n",
       "\n",
       "                                   Genre  \\\n",
       "0     Action, Adventure, Science Fiction   \n",
       "1               Crime, Mystery, Thriller   \n",
       "2                               Thriller   \n",
       "3     Animation, Comedy, Family, Fantasy   \n",
       "4       Action, Adventure, Thriller, War   \n",
       "...                                  ...   \n",
       "9826                              Horror   \n",
       "9828            Action, Adventure, Drama   \n",
       "9833                              Horror   \n",
       "9834           Mystery, Thriller, Horror   \n",
       "9835               Music, Drama, History   \n",
       "\n",
       "                                             Poster_Url  \n",
       "0     https://image.tmdb.org/t/p/original/1g0dhYtq4i...  \n",
       "1     https://image.tmdb.org/t/p/original/74xTEgt7R3...  \n",
       "2     https://image.tmdb.org/t/p/original/vDHsLnOWKl...  \n",
       "3     https://image.tmdb.org/t/p/original/4j0PNHkMr5...  \n",
       "4     https://image.tmdb.org/t/p/original/aq4Pwv5Xeu...  \n",
       "...                                                 ...  \n",
       "9826  https://image.tmdb.org/t/p/original/43dvapnp9D...  \n",
       "9828  https://image.tmdb.org/t/p/original/9cVA4oX2xH...  \n",
       "9833  https://image.tmdb.org/t/p/original/4b6HY7rud6...  \n",
       "9834  https://image.tmdb.org/t/p/original/h4uMM1wOhz...  \n",
       "9835  https://image.tmdb.org/t/p/original/vEzkxuE2sJ...  \n",
       "\n",
       "[5383 rows x 9 columns]"
      ]
     },
     "execution_count": 52,
     "metadata": {},
     "output_type": "execute_result"
    }
   ],
   "source": [
    "movies_released_after_2010 = movies[movies['Release_Date'] > '2010-01-01']\n",
    "movies_released_after_2010"
   ]
  },
  {
   "cell_type": "markdown",
   "metadata": {},
   "source": [
    "5. Retrieve movies that belong to the \"Action\" genre and have a popularity score above 50."
   ]
  },
  {
   "cell_type": "code",
   "execution_count": 54,
   "metadata": {},
   "outputs": [
    {
     "data": {
      "text/html": [
       "<div>\n",
       "<style scoped>\n",
       "    .dataframe tbody tr th:only-of-type {\n",
       "        vertical-align: middle;\n",
       "    }\n",
       "\n",
       "    .dataframe tbody tr th {\n",
       "        vertical-align: top;\n",
       "    }\n",
       "\n",
       "    .dataframe thead th {\n",
       "        text-align: right;\n",
       "    }\n",
       "</style>\n",
       "<table border=\"1\" class=\"dataframe\">\n",
       "  <thead>\n",
       "    <tr style=\"text-align: right;\">\n",
       "      <th></th>\n",
       "      <th>Release_Date</th>\n",
       "      <th>Title</th>\n",
       "      <th>Overview</th>\n",
       "      <th>Popularity</th>\n",
       "      <th>Vote_Count</th>\n",
       "      <th>Vote_Average</th>\n",
       "      <th>Original_Language</th>\n",
       "      <th>Genre</th>\n",
       "      <th>Poster_Url</th>\n",
       "    </tr>\n",
       "  </thead>\n",
       "  <tbody>\n",
       "    <tr>\n",
       "      <th>37</th>\n",
       "      <td>2021-11-05</td>\n",
       "      <td>One Shot</td>\n",
       "      <td>An elite squad of Navy SEALs, on a covert miss...</td>\n",
       "      <td>622.240</td>\n",
       "      <td>382</td>\n",
       "      <td>6.8</td>\n",
       "      <td>en</td>\n",
       "      <td>Action</td>\n",
       "      <td>https://image.tmdb.org/t/p/original/3OXiTjU30g...</td>\n",
       "    </tr>\n",
       "    <tr>\n",
       "      <th>136</th>\n",
       "      <td>2021-05-06</td>\n",
       "      <td>Crazy Fist</td>\n",
       "      <td>After an opponent dies mid-match, a prominent ...</td>\n",
       "      <td>230.547</td>\n",
       "      <td>44</td>\n",
       "      <td>7.3</td>\n",
       "      <td>zh</td>\n",
       "      <td>Action</td>\n",
       "      <td>https://image.tmdb.org/t/p/original/jVAEVDNdUP...</td>\n",
       "    </tr>\n",
       "    <tr>\n",
       "      <th>264</th>\n",
       "      <td>2021-08-19</td>\n",
       "      <td>The Protégé</td>\n",
       "      <td>Rescued as a child by the legendary assassin M...</td>\n",
       "      <td>160.697</td>\n",
       "      <td>531</td>\n",
       "      <td>6.6</td>\n",
       "      <td>en</td>\n",
       "      <td>Action</td>\n",
       "      <td>https://image.tmdb.org/t/p/original/o9FY8N5c8C...</td>\n",
       "    </tr>\n",
       "    <tr>\n",
       "      <th>288</th>\n",
       "      <td>2009-09-29</td>\n",
       "      <td>Ninja Assassin</td>\n",
       "      <td>Ninja Assassin follows Raizo, one of the deadl...</td>\n",
       "      <td>152.290</td>\n",
       "      <td>1115</td>\n",
       "      <td>6.5</td>\n",
       "      <td>en</td>\n",
       "      <td>Action</td>\n",
       "      <td>https://image.tmdb.org/t/p/original/x9UdRFI4o0...</td>\n",
       "    </tr>\n",
       "    <tr>\n",
       "      <th>297</th>\n",
       "      <td>2021-11-15</td>\n",
       "      <td>Never Back Down: Revolt</td>\n",
       "      <td>An amateur fighter is lured by a trafficking s...</td>\n",
       "      <td>149.856</td>\n",
       "      <td>45</td>\n",
       "      <td>6.6</td>\n",
       "      <td>en</td>\n",
       "      <td>Action</td>\n",
       "      <td>https://image.tmdb.org/t/p/original/icAG01wZyy...</td>\n",
       "    </tr>\n",
       "    <tr>\n",
       "      <th>302</th>\n",
       "      <td>2021-08-18</td>\n",
       "      <td>Sweet Girl</td>\n",
       "      <td>A man vows to bring justice to those responsib...</td>\n",
       "      <td>148.930</td>\n",
       "      <td>850</td>\n",
       "      <td>6.8</td>\n",
       "      <td>en</td>\n",
       "      <td>Action</td>\n",
       "      <td>https://image.tmdb.org/t/p/original/cP7odDzzFB...</td>\n",
       "    </tr>\n",
       "    <tr>\n",
       "      <th>309</th>\n",
       "      <td>2021-03-06</td>\n",
       "      <td>American Badger</td>\n",
       "      <td>A seemingly cold-blooded hitman is assigned to...</td>\n",
       "      <td>147.770</td>\n",
       "      <td>26</td>\n",
       "      <td>5.9</td>\n",
       "      <td>en</td>\n",
       "      <td>Action</td>\n",
       "      <td>https://image.tmdb.org/t/p/original/xoNWf2GnEF...</td>\n",
       "    </tr>\n",
       "    <tr>\n",
       "      <th>344</th>\n",
       "      <td>2021-01-08</td>\n",
       "      <td>Redemption Day</td>\n",
       "      <td>When his wife is kidnapped by terrorists for r...</td>\n",
       "      <td>137.585</td>\n",
       "      <td>194</td>\n",
       "      <td>6.3</td>\n",
       "      <td>en</td>\n",
       "      <td>Action</td>\n",
       "      <td>https://image.tmdb.org/t/p/original/y1Tk1LUwS3...</td>\n",
       "    </tr>\n",
       "    <tr>\n",
       "      <th>464</th>\n",
       "      <td>2021-09-10</td>\n",
       "      <td>Kate</td>\n",
       "      <td>A ruthless criminal operative has less than 24...</td>\n",
       "      <td>110.146</td>\n",
       "      <td>969</td>\n",
       "      <td>6.7</td>\n",
       "      <td>en</td>\n",
       "      <td>Action</td>\n",
       "      <td>https://image.tmdb.org/t/p/original/uJgdT1boTS...</td>\n",
       "    </tr>\n",
       "    <tr>\n",
       "      <th>1453</th>\n",
       "      <td>2014-09-26</td>\n",
       "      <td>Outcast</td>\n",
       "      <td>A mysterious warrior teams up with the daughte...</td>\n",
       "      <td>51.919</td>\n",
       "      <td>370</td>\n",
       "      <td>5.0</td>\n",
       "      <td>en</td>\n",
       "      <td>Action</td>\n",
       "      <td>https://image.tmdb.org/t/p/original/efsgCTlofz...</td>\n",
       "    </tr>\n",
       "    <tr>\n",
       "      <th>1457</th>\n",
       "      <td>2015-01-15</td>\n",
       "      <td>Tracers</td>\n",
       "      <td>Wanted by the mafia, a New York City bike mess...</td>\n",
       "      <td>51.778</td>\n",
       "      <td>963</td>\n",
       "      <td>6.0</td>\n",
       "      <td>en</td>\n",
       "      <td>Action</td>\n",
       "      <td>https://image.tmdb.org/t/p/original/2XoazCkD4g...</td>\n",
       "    </tr>\n",
       "  </tbody>\n",
       "</table>\n",
       "</div>"
      ],
      "text/plain": [
       "     Release_Date                    Title  \\\n",
       "37     2021-11-05                 One Shot   \n",
       "136    2021-05-06               Crazy Fist   \n",
       "264    2021-08-19              The Protégé   \n",
       "288    2009-09-29           Ninja Assassin   \n",
       "297    2021-11-15  Never Back Down: Revolt   \n",
       "302    2021-08-18               Sweet Girl   \n",
       "309    2021-03-06          American Badger   \n",
       "344    2021-01-08           Redemption Day   \n",
       "464    2021-09-10                     Kate   \n",
       "1453   2014-09-26                  Outcast   \n",
       "1457   2015-01-15                  Tracers   \n",
       "\n",
       "                                               Overview  Popularity  \\\n",
       "37    An elite squad of Navy SEALs, on a covert miss...     622.240   \n",
       "136   After an opponent dies mid-match, a prominent ...     230.547   \n",
       "264   Rescued as a child by the legendary assassin M...     160.697   \n",
       "288   Ninja Assassin follows Raizo, one of the deadl...     152.290   \n",
       "297   An amateur fighter is lured by a trafficking s...     149.856   \n",
       "302   A man vows to bring justice to those responsib...     148.930   \n",
       "309   A seemingly cold-blooded hitman is assigned to...     147.770   \n",
       "344   When his wife is kidnapped by terrorists for r...     137.585   \n",
       "464   A ruthless criminal operative has less than 24...     110.146   \n",
       "1453  A mysterious warrior teams up with the daughte...      51.919   \n",
       "1457  Wanted by the mafia, a New York City bike mess...      51.778   \n",
       "\n",
       "     Vote_Count Vote_Average Original_Language   Genre  \\\n",
       "37          382          6.8                en  Action   \n",
       "136          44          7.3                zh  Action   \n",
       "264         531          6.6                en  Action   \n",
       "288        1115          6.5                en  Action   \n",
       "297          45          6.6                en  Action   \n",
       "302         850          6.8                en  Action   \n",
       "309          26          5.9                en  Action   \n",
       "344         194          6.3                en  Action   \n",
       "464         969          6.7                en  Action   \n",
       "1453        370          5.0                en  Action   \n",
       "1457        963          6.0                en  Action   \n",
       "\n",
       "                                             Poster_Url  \n",
       "37    https://image.tmdb.org/t/p/original/3OXiTjU30g...  \n",
       "136   https://image.tmdb.org/t/p/original/jVAEVDNdUP...  \n",
       "264   https://image.tmdb.org/t/p/original/o9FY8N5c8C...  \n",
       "288   https://image.tmdb.org/t/p/original/x9UdRFI4o0...  \n",
       "297   https://image.tmdb.org/t/p/original/icAG01wZyy...  \n",
       "302   https://image.tmdb.org/t/p/original/cP7odDzzFB...  \n",
       "309   https://image.tmdb.org/t/p/original/xoNWf2GnEF...  \n",
       "344   https://image.tmdb.org/t/p/original/y1Tk1LUwS3...  \n",
       "464   https://image.tmdb.org/t/p/original/uJgdT1boTS...  \n",
       "1453  https://image.tmdb.org/t/p/original/efsgCTlofz...  \n",
       "1457  https://image.tmdb.org/t/p/original/2XoazCkD4g...  "
      ]
     },
     "execution_count": 54,
     "metadata": {},
     "output_type": "execute_result"
    }
   ],
   "source": [
    "action_movies = movies[(movies['Genre'] == 'Action') & (movies['Popularity'] > 50)]\n",
    "action_movies"
   ]
  },
  {
   "cell_type": "markdown",
   "metadata": {},
   "source": [
    "#### **Exercise 5: Renaming Columns**\n",
    "**Objective:** Modify column names for better readability.\n",
    "\n",
    "##### **Task:**\n",
    "1. Convert all column names to lowercase."
   ]
  },
  {
   "cell_type": "code",
   "execution_count": 56,
   "metadata": {},
   "outputs": [
    {
     "name": "stdout",
     "output_type": "stream",
     "text": [
      "['Release_Date' 'Title' 'Overview' 'Popularity' 'Vote_Count'\n",
      " 'Vote_Average' 'Original_Language' 'Genre' 'Poster_Url']\n",
      "['release_date' 'title' 'overview' 'popularity' 'vote_count'\n",
      " 'vote_average' 'original_language' 'genre' 'poster_url']\n"
     ]
    }
   ],
   "source": [
    "print(movies.columns.to_numpy())\n",
    "movies.columns = movies.columns.str.lower().str.replace(' ', '_')\n",
    "print(movies.columns.to_numpy())"
   ]
  },
  {
   "cell_type": "markdown",
   "metadata": {},
   "source": [
    "2. Rename:\n",
    "    - `Vote_Average` → `Avg_Rating`\n",
    "    - `Vote_Count` → `Total_Votes`\n",
    "    - `Original_Language` → `Language`\n"
   ]
  },
  {
   "cell_type": "code",
   "execution_count": 60,
   "metadata": {},
   "outputs": [],
   "source": [
    "new_columns = {'vote_average': 'avg_rating', 'vote_count': 'total_votes', 'original_language': 'language'}\n",
    "movies.rename(columns=new_columns, inplace=True)"
   ]
  },
  {
   "cell_type": "code",
   "execution_count": 61,
   "metadata": {},
   "outputs": [
    {
     "data": {
      "text/plain": [
       "['release_date',\n",
       " 'title',\n",
       " 'overview',\n",
       " 'popularity',\n",
       " 'total_votes',\n",
       " 'avg_rating',\n",
       " 'language',\n",
       " 'genre',\n",
       " 'poster_url']"
      ]
     },
     "execution_count": 61,
     "metadata": {},
     "output_type": "execute_result"
    }
   ],
   "source": [
    "movies.columns.to_list()"
   ]
  },
  {
   "cell_type": "markdown",
   "metadata": {},
   "source": [
    "3. Create a function that takes a DataFrame and automatically cleans column names by:\n",
    "    - Converting them to lowercase.\n",
    "    - Removing special characters.\n",
    "    - Replacing spaces with underscores."
   ]
  },
  {
   "cell_type": "code",
   "execution_count": 74,
   "metadata": {},
   "outputs": [],
   "source": [
    "def clean_columns(df: pd.DataFrame) -> pd.DataFrame:\n",
    "    df.columns = df.columns.str.lower().str.replace('[^a-z0-9]', '', regex=True).str.replace(' ', '_')\n",
    "    return df"
   ]
  },
  {
   "cell_type": "code",
   "execution_count": 78,
   "metadata": {},
   "outputs": [],
   "source": [
    "movies.rename(columns={'genre': 'genre$'}, inplace=True)"
   ]
  },
  {
   "cell_type": "code",
   "execution_count": 79,
   "metadata": {},
   "outputs": [
    {
     "name": "stdout",
     "output_type": "stream",
     "text": [
      "['releasedate', 'title', 'overview', 'popularity', 'totalvotes', 'avgrating', 'language', 'genre$', 'posterurl']\n"
     ]
    }
   ],
   "source": [
    "print(movies.columns.to_list())"
   ]
  },
  {
   "cell_type": "code",
   "execution_count": 80,
   "metadata": {},
   "outputs": [
    {
     "name": "stdout",
     "output_type": "stream",
     "text": [
      "['releasedate', 'title', 'overview', 'popularity', 'totalvotes', 'avgrating', 'language', 'genre', 'posterurl']\n"
     ]
    }
   ],
   "source": [
    "movies = clean_columns(movies)\n",
    "print(movies.columns.to_list())"
   ]
  }
 ],
 "metadata": {
  "kernelspec": {
   "display_name": "Python 3",
   "language": "python",
   "name": "python3"
  },
  "language_info": {
   "codemirror_mode": {
    "name": "ipython",
    "version": 3
   },
   "file_extension": ".py",
   "mimetype": "text/x-python",
   "name": "python",
   "nbconvert_exporter": "python",
   "pygments_lexer": "ipython3",
   "version": "3.12.6"
  }
 },
 "nbformat": 4,
 "nbformat_minor": 2
}

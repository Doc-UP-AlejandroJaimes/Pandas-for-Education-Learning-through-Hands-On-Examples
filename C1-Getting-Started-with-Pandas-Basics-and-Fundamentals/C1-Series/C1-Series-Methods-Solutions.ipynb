{
 "cells": [
  {
   "cell_type": "code",
   "execution_count": 26,
   "metadata": {},
   "outputs": [],
   "source": [
    "import pandas as pd\n",
    "import os"
   ]
  },
  {
   "cell_type": "code",
   "execution_count": 27,
   "metadata": {},
   "outputs": [
    {
     "name": "stdout",
     "output_type": "stream",
     "text": [
      "../datasets/movies-kaggle-df\\mymoviedb.csv\n"
     ]
    }
   ],
   "source": [
    "for dirname, _, filenames in os.walk('../datasets/movies-kaggle-df'):\n",
    "    for filename in filenames:\n",
    "        print(os.path.join(dirname, filename))"
   ]
  },
  {
   "cell_type": "code",
   "execution_count": 28,
   "metadata": {},
   "outputs": [],
   "source": [
    "# read file\n",
    "path_file = '../datasets/movies-kaggle-df/mymoviedb.csv'\n",
    "movies = pd.read_csv(path_file, engine='python', on_bad_lines='skip', quotechar='\"')"
   ]
  },
  {
   "cell_type": "code",
   "execution_count": 29,
   "metadata": {},
   "outputs": [],
   "source": [
    "movies.columns = movies.columns.str.replace(' ', '_').str.lower()"
   ]
  },
  {
   "cell_type": "markdown",
   "metadata": {},
   "source": [
    "### **Exercise 1: Calling Series Methods**  \n",
    "**Objective**: Learn how to call basic Series methods to analyze data.\n",
    "\n",
    "**Task**:\n",
    "1. Select the \"Popularity\" column from the dataset.\n",
    "2. Use the `.min()` method to find the lowest popularity value in the dataset.\n",
    "3. Use the `.max()` method to find the highest popularity value in the dataset.\n",
    "4. Find the mean of the popularity column using the `.mean()` method.\n",
    "5. Find the median popularity using the `.median()` method.\n"
   ]
  },
  {
   "cell_type": "code",
   "execution_count": 30,
   "metadata": {},
   "outputs": [
    {
     "name": "stdout",
     "output_type": "stream",
     "text": [
      "Data type popularity: float64\n"
     ]
    }
   ],
   "source": [
    "popularity = movies['popularity'] # get popularity column\n",
    "print('Data type popularity:', popularity.dtype)"
   ]
  },
  {
   "cell_type": "code",
   "execution_count": 31,
   "metadata": {},
   "outputs": [
    {
     "name": "stdout",
     "output_type": "stream",
     "text": [
      "Max popularity: 5083.954\n",
      "Min popularity: 7.1\n",
      "Mean popularity: 40.32056996031343\n",
      "Median popularity: 21.191\n"
     ]
    }
   ],
   "source": [
    "max_popularity = popularity.max() # get max value of popularity\n",
    "min_popularity = popularity.min() # get min value of popularity\n",
    "mean_popularity = popularity.mean() # get mean value of popularity\n",
    "median_popularity = popularity.median() # get median value of popularity\n",
    "print('Max popularity:', max_popularity)\n",
    "print('Min popularity:', min_popularity)\n",
    "print('Mean popularity:', mean_popularity)\n",
    "print('Median popularity:', median_popularity)"
   ]
  },
  {
   "cell_type": "markdown",
   "metadata": {},
   "source": [
    "### **Exercise 2: Series Operations**  \n",
    "**Objective**: Perform basic operations on a Series.\n",
    "\n",
    "**Task**:\n",
    "1. Create a new Series by adding 10 to the \"Popularity\" column.\n",
    "2. Create a new Series by dividing the \"Popularity\" column by the \"Vote_Count\" column.\n",
    "3. Check if any value in the \"Popularity\" column is greater than 50."
   ]
  },
  {
   "cell_type": "code",
   "execution_count": 32,
   "metadata": {},
   "outputs": [
    {
     "name": "stdout",
     "output_type": "stream",
     "text": [
      "0       5093.954\n",
      "1       3837.658\n",
      "2       2628.087\n",
      "3       2412.201\n",
      "4       1905.511\n",
      "          ...   \n",
      "9832      23.357\n",
      "9833      23.356\n",
      "9834      23.355\n",
      "9835      23.354\n",
      "9836      23.354\n",
      "Name: popularity, Length: 9837, dtype: float64\n",
      "====================================\n",
      "0        0.568675\n",
      "1        3.325507\n",
      "2       21.459730\n",
      "3        0.473247\n",
      "4        1.057173\n",
      "          ...    \n",
      "9832     0.014907\n",
      "9833     1.669500\n",
      "9834     0.142074\n",
      "9835     0.087855\n",
      "9836     0.071796\n",
      "Length: 9837, dtype: float64\n"
     ]
    }
   ],
   "source": [
    "print(popularity.add(10)) # add 10 to each value of popularity\n",
    "vote_count = pd.to_numeric(movies['vote_count'], errors='coerce') # convert vote_count to numeric\n",
    "print(\"====================================\")\n",
    "print(popularity.div(vote_count)) # divide popularity by vote_count\n"
   ]
  },
  {
   "cell_type": "code",
   "execution_count": 33,
   "metadata": {},
   "outputs": [
    {
     "name": "stdout",
     "output_type": "stream",
     "text": [
      "0       5083.954\n",
      "1       3827.658\n",
      "2       2618.087\n",
      "3       2402.201\n",
      "4       1895.511\n",
      "          ...   \n",
      "1520      50.149\n",
      "1521      50.144\n",
      "1522      50.118\n",
      "1523      50.063\n",
      "1524      50.026\n",
      "Name: popularity, Length: 1514, dtype: float64\n"
     ]
    }
   ],
   "source": [
    "popularity_mask = popularity > 50 # create mask for popularity > 50\n",
    "popularity_filtered = popularity[popularity_mask] # filter popularity > 50\n",
    "print(popularity_filtered)"
   ]
  },
  {
   "cell_type": "markdown",
   "metadata": {},
   "source": [
    "### **Exercise 3: Chaining Series Methods**  \n",
    "**Objective**: Chain multiple Series methods together.\n",
    "\n",
    "**Task**:\n",
    "1. First, select the \"Popularity\" column.\n",
    "2. Apply the `.dropna()` method to remove any missing values.\n",
    "3. Apply the `.apply()` method to increase each remaining value by 20%.\n",
    "4. Calculate the mean of the updated \"Popularity\" values using the `.mean()` method."
   ]
  },
  {
   "cell_type": "code",
   "execution_count": 34,
   "metadata": {},
   "outputs": [
    {
     "data": {
      "text/plain": [
       "np.int64(9827)"
      ]
     },
     "execution_count": 34,
     "metadata": {},
     "output_type": "execute_result"
    }
   ],
   "source": [
    "popularity.dropna(inplace=True) # Apply the `.dropna()` method to remove any missing values.\n",
    "popularity.count()"
   ]
  },
  {
   "cell_type": "code",
   "execution_count": 35,
   "metadata": {},
   "outputs": [],
   "source": [
    "def increase(value):\n",
    "    return value * 1.2"
   ]
  },
  {
   "cell_type": "code",
   "execution_count": 36,
   "metadata": {},
   "outputs": [],
   "source": [
    "def debugger_serie(ser:pd.Series)->pd.Series:\n",
    "    print(\"===BEFORE===\")\n",
    "    print(ser)\n",
    "    print(\"===AFTER===\")\n",
    "    print(ser)\n",
    "    return ser"
   ]
  },
  {
   "cell_type": "code",
   "execution_count": 42,
   "metadata": {},
   "outputs": [
    {
     "name": "stdout",
     "output_type": "stream",
     "text": [
      "===BEFORE===\n",
      "0       6100.7448\n",
      "1       4593.1896\n",
      "2       3141.7044\n",
      "3       2882.6412\n",
      "4       2274.6132\n",
      "          ...    \n",
      "9832      16.0284\n",
      "9833      16.0272\n",
      "9834      16.0260\n",
      "9835      16.0248\n",
      "9836      16.0248\n",
      "Name: popularity, Length: 9827, dtype: float64\n",
      "===AFTER===\n",
      "0       6100.7448\n",
      "1       4593.1896\n",
      "2       3141.7044\n",
      "3       2882.6412\n",
      "4       2274.6132\n",
      "          ...    \n",
      "9832      16.0284\n",
      "9833      16.0272\n",
      "9834      16.0260\n",
      "9835      16.0248\n",
      "9836      16.0248\n",
      "Name: popularity, Length: 9827, dtype: float64\n"
     ]
    }
   ],
   "source": [
    "popularity_increase = (\n",
    "    popularity \\\n",
    "    .apply(increase) \\\n",
    "    .pipe(debugger_serie) \\\n",
    "        \n",
    ")"
   ]
  },
  {
   "cell_type": "code",
   "execution_count": 43,
   "metadata": {},
   "outputs": [
    {
     "data": {
      "text/plain": [
       "0    6100.7448\n",
       "1    4593.1896\n",
       "2    3141.7044\n",
       "3    2882.6412\n",
       "4    2274.6132\n",
       "Name: popularity, dtype: float64"
      ]
     },
     "execution_count": 43,
     "metadata": {},
     "output_type": "execute_result"
    }
   ],
   "source": [
    "popularity_increase.head()"
   ]
  },
  {
   "cell_type": "markdown",
   "metadata": {},
   "source": [
    "### **Exercise 4: Handling Missing Values**  \n",
    "**Objective**: Practice handling missing values in a Series.\n",
    "\n",
    "**Task**:\n",
    "1. Identify the missing values in the \"Vote_Average\" column.\n",
    "2. Use the `.fillna()` method to replace missing values in \"Vote_Average\" with the mean of the column.\n",
    "3. Use the `.dropna()` method to remove rows with missing values in the \"Genre\" column."
   ]
  },
  {
   "cell_type": "code",
   "execution_count": 49,
   "metadata": {},
   "outputs": [
    {
     "data": {
      "text/plain": [
       "dtype('O')"
      ]
     },
     "execution_count": 49,
     "metadata": {},
     "output_type": "execute_result"
    }
   ],
   "source": [
    "movies.vote_average.dtype"
   ]
  },
  {
   "cell_type": "code",
   "execution_count": 50,
   "metadata": {},
   "outputs": [
    {
     "name": "stdout",
     "output_type": "stream",
     "text": [
      "Missing Values in vote_average: 11\n"
     ]
    }
   ],
   "source": [
    "miss_values_vote_avg = pd.to_numeric(movies['vote_average'],errors='coerce')\n",
    "print(f\"Missing Values in vote_average: {miss_values_vote_avg.isna().sum()}\")"
   ]
  },
  {
   "cell_type": "code",
   "execution_count": 52,
   "metadata": {},
   "outputs": [
    {
     "name": "stdout",
     "output_type": "stream",
     "text": [
      "Missing Values in vote_average: 0\n"
     ]
    }
   ],
   "source": [
    "miss_values_vote_avg.fillna(miss_values_vote_avg.mean(), inplace=True)\n",
    "print(f\"Missing Values in vote_average: {miss_values_vote_avg.isna().sum()}\")"
   ]
  },
  {
   "cell_type": "code",
   "execution_count": 57,
   "metadata": {},
   "outputs": [
    {
     "name": "stdout",
     "output_type": "stream",
     "text": [
      "Missing Values in genre: 11\n",
      "Missing Values in genre: 0\n"
     ]
    }
   ],
   "source": [
    "miss_values_genre = movies['genre']\n",
    "print(f\"Missing Values in genre: {miss_values_genre.isna().sum()}\")\n",
    "mask_miss_values_genre = miss_values_genre.isna()\n",
    "dropna_genre = miss_values_genre[~mask_miss_values_genre]\n",
    "print(f\"Missing Values in genre: {dropna_genre.isna().sum()}\")"
   ]
  },
  {
   "cell_type": "code",
   "execution_count": 59,
   "metadata": {},
   "outputs": [
    {
     "data": {
      "text/plain": [
       "0    Action, Adventure, Science Fiction\n",
       "1              Crime, Mystery, Thriller\n",
       "2                              Thriller\n",
       "3    Animation, Comedy, Family, Fantasy\n",
       "4      Action, Adventure, Thriller, War\n",
       "Name: genre, dtype: object"
      ]
     },
     "execution_count": 59,
     "metadata": {},
     "output_type": "execute_result"
    }
   ],
   "source": [
    "dropna_genre.head()"
   ]
  }
 ],
 "metadata": {
  "kernelspec": {
   "display_name": "Python 3",
   "language": "python",
   "name": "python3"
  },
  "language_info": {
   "codemirror_mode": {
    "name": "ipython",
    "version": 3
   },
   "file_extension": ".py",
   "mimetype": "text/x-python",
   "name": "python",
   "nbconvert_exporter": "python",
   "pygments_lexer": "ipython3",
   "version": "3.12.6"
  }
 },
 "nbformat": 4,
 "nbformat_minor": 2
}

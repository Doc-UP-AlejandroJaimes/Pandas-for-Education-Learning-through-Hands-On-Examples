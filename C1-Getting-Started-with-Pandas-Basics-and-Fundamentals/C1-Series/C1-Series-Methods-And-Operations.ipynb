{
 "cells": [
  {
   "cell_type": "markdown",
   "metadata": {},
   "source": [
    "# Series Methods and Operations in Pandas\n",
    "_In this section, you will explore the powerful methods available for working with Pandas Series. You will learn how to apply built-in methods, perform operations on Series, and effectively chain multiple methods to transform and analyze data efficiently._\n",
    "\n",
    "---\n",
    "\n",
    "## Contents\n",
    "1. **Introduction**  \n",
    "   - Understanding Pandas Series  \n",
    "   - Differences between Series and DataFrame  \n",
    "   - Importance of Series Methods in Data Analysis  \n",
    "   \n",
    "2. **Key Concepts**  \n",
    "   - Series \n",
    "     - Calling Series Methods  \n",
    "     - Series Operations  \n",
    "     - Chaining Series Methods  \n",
    "\n",
    "3. **Practical Exercises**  \n",
    "   Hands-on exercises to reinforce learning and apply Series methods in real-world scenarios.\n",
    "\n",
    "---\n",
    "\n",
    "## Datasets Used\n",
    "- [disham993/9000-movies-dataset](https://www.kaggle.com/datasets/disham993/9000-movies-dataset)  \n",
    "\n",
    "### About Dataset\n",
    "\n",
    "#### Context\n",
    "This dataset is designed for building a movie recommender system using Natural Language Processing and Machine Learning. It provides valuable data for learners exploring Data Science concepts.\n",
    "\n",
    "#### Content\n",
    "##### Features of the dataset:\n",
    "- **Release_Date**: Date when the movie was released.\n",
    "- **Title**: Name of the movie.\n",
    "- **Overview**: Brief summary of the movie.\n",
    "- **Popularity**: A metric computed by TMDB based on views, votes, favorites, and more.\n",
    "- **Vote_Count**: Total number of votes received from viewers.\n",
    "- **Vote_Average**: Average rating based on vote count and number of viewers (out of 10).\n",
    "- **Original_Language**: Original language of the movie (dubbed versions are excluded).\n",
    "- **Genre**: Categories the movie belongs to.\n",
    "- **Poster_Url**: URL of the movie poster.\n",
    "\n",
    "#### Acknowledgements\n",
    "Special thanks to Mr. Nitish Singh from CampusX (https://www.youtube.com/channel/UCCWi3hpnq_Pe03nGxuS7isg) for creating easy-to-follow tutorials.\n",
    "\n",
    "#### Inspiration\n",
    "A recommender system can be built using this CSV data.\n",
    "\n",
    "#### Source\n",
    "The data was fetched using the API from [The Movie Database](https://developers.themoviedb.org/3/movies/get-popular-movies) and cleaned using Pandas and Numpy libraries in Python.\n",
    "\n",
    "---\n",
    "\n",
    "## Author\n",
    "**Author Name:** Juan Alejandro Carrillo Jaimes  \n",
    "\n",
    "**Contact:** [jalejandrocjaimes@gmail.com](mailto:jalejandrocjaimes@gmail.com) - [Linkedin-AlejoCJaimes31](https://www.linkedin.com/in/alejocjaimes31/)  \n",
    "\n",
    "**Purpose:** This content was created as an educational resource for university students.\n",
    "\n",
    "---\n"
   ]
  },
  {
   "cell_type": "markdown",
   "metadata": {},
   "source": [
    "# 1. Introduction  \n",
    "The **goal** of this chapter is to introduce a foundation of pandas by thoroughly inspecting the **Series** data structure. Understanding Series is essential for effective data manipulation in Pandas.\n",
    "\n",
    "In this chapter, you **will learn** how to apply built-in Series methods, perform operations on Series, and chain multiple methods to transform and analyze data efficiently.\n",
    "\n",
    "## Summary: Understanding Pandas Series  \n",
    "\n",
    "## Pandas Series  \n",
    "<p align=\"center\">\n",
    "  <img src=\"https://bites-data.s3.us-east-2.amazonaws.com/series_spreadsheet.png\" width=\"500\" height=\"300\"/>\n",
    "</p>  \n",
    "\n",
    "A **Pandas Series** is a **one-dimensional labeled array** capable of holding any data type (integers, floats, strings, etc.). Each element in a Series is associated with an **index**, which acts like row labels.\n",
    "\n",
    "### Why is it important?  \n",
    "Pandas Series allows for fast, flexible, and intuitive data manipulation. It is a fundamental tool in data science for handling structured data efficiently. \n",
    "\n",
    "📌 **Key Characteristics of a Pandas Series:**  \n",
    "- One-dimensional (like a column in a DataFrame)  \n",
    "- Supports different data types (int, float, string, datetime, etc.)  \n",
    "- Indexed automatically (or can be customized)  \n",
    "- Can perform vectorized operations  \n",
    "\n",
    "### Code  \n",
    "```python\n",
    "import pandas as pd\n",
    "\n",
    "# Creating a Series with default index\n",
    "numbers = pd.Series([10, 20, 30, 40, 50])\n",
    "print(numbers)\n",
    "\n",
    "# Creating a Series with custom index\n",
    "grades = pd.Series([90, 85, 88], index=['Alice', 'Bob', 'Charlie'])\n",
    "print(grades)\n",
    "```\n",
    "____  \n",
    "\n",
    "## Differences Between Series and DataFrame  \n",
    "<p align=\"center\">\n",
    "  <img src=\"https://miro.medium.com/v2/resize:fit:1400/1*RZ1nbLkRCn-8Hu7DK3I4jA.png\" width=\"500\" height=\"300\"/>\n",
    "</p>  \n",
    "\n",
    "Pandas provides **two primary data structures**:  \n",
    "\n",
    "| Feature        | Series | DataFrame |\n",
    "|---------------|--------|-----------|\n",
    "| **Structure** | 1D Array | 2D Table (Rows & Columns) |\n",
    "| **Data Type** | Homogeneous (single type) | Heterogeneous (multiple types) |\n",
    "| **Indexing**  | Single index | Row and Column index |\n",
    "| **Operations** | Element-wise operations | Complex operations (grouping, merging) |\n",
    "\n",
    "📌 **Example Comparison:**  \n",
    "```python\n",
    "# Series: Single Column\n",
    "series_example = pd.Series([100, 200, 300])\n",
    "print(series_example)\n",
    "\n",
    "# DataFrame: Multiple Columns\n",
    "df_example = pd.DataFrame({'A': [100, 200, 300], 'B': [10, 20, 30]})\n",
    "print(df_example)\n",
    "```\n",
    "____  \n",
    "\n",
    "## Importance of Series Methods in Data Analysis  \n",
    "<p align=\"center\">\n",
    "  <img src=\"https://media.licdn.com/dms/image/D5612AQEjQS0vCTKb-g/article-cover_image-shrink_720_1280/0/1693747063213?e=2147483647&v=beta&t=dxnYu_RCztDHDax1cv1Y8iqEowJkkpcI1wCOy9mRtdQ\" width=\"300\" height=\"200\"/>\n",
    "</p>  \n",
    "\n",
    "Pandas Series methods provide **efficient data manipulation** for:  \n",
    "✅ **Data Cleaning:** Handling missing values, converting data types  \n",
    "✅ **Data Transformation:** Applying functions, mapping, filtering  \n",
    "✅ **Statistical Analysis:** Computing mean, median, sum, standard deviation  \n",
    "✅ **Text Processing:** Converting case, extracting substrings, pattern matching  \n",
    "\n",
    "📌 **Example: Applying Series Methods**  \n",
    "```python\n",
    "# Creating a Series\n",
    "data = pd.Series([5, 10, 15, 20, 25, None])\n",
    "\n",
    "# Using Series methods\n",
    "print(data.mean())  # Calculates mean (ignores NaN)\n",
    "print(data.fillna(0))  # Replaces NaN with 0\n",
    "print(data.astype(str))  # Converts numbers to strings\n",
    "```\n",
    "---"
   ]
  },
  {
   "cell_type": "markdown",
   "metadata": {},
   "source": [
    "### Data Set\n",
    "I assume you read the notebook `C1-Introduction-To-Pandas-and-DataFrame-Structure.ipynb` in the **Datasets Important Information** section.\n"
   ]
  },
  {
   "cell_type": "markdown",
   "metadata": {},
   "source": [
    "# 2. Key concepts"
   ]
  },
  {
   "cell_type": "markdown",
   "metadata": {},
   "source": [
    "## 2. Series"
   ]
  },
  {
   "cell_type": "markdown",
   "metadata": {},
   "source": [
    "### 2.1 Calling Series Methods"
   ]
  },
  {
   "cell_type": "code",
   "execution_count": 38,
   "metadata": {},
   "outputs": [],
   "source": [
    "# import pandas\n",
    "import pandas as pd\n",
    "import numpy as np"
   ]
  },
  {
   "cell_type": "code",
   "execution_count": 2,
   "metadata": {},
   "outputs": [],
   "source": [
    "# read file\n",
    "path_file = '../datasets/movies-kaggle-df/mymoviedb.csv'\n",
    "movies = pd.read_csv(path_file, engine='python', on_bad_lines='skip', quotechar='\"')"
   ]
  },
  {
   "cell_type": "markdown",
   "metadata": {},
   "source": [
    "Calling **Series** methods is the primary way to use the abilities that the Series offers. We can use the `built-in` **dir** function to uncover all the attributes and methods of a **Series**."
   ]
  },
  {
   "cell_type": "code",
   "execution_count": 4,
   "metadata": {},
   "outputs": [
    {
     "data": {
      "text/plain": [
       "{'T',\n",
       " '_AXIS_LEN',\n",
       " '_AXIS_ORDERS',\n",
       " '_AXIS_TO_AXIS_NUMBER',\n",
       " '_HANDLED_TYPES',\n",
       " '__abs__',\n",
       " '__add__',\n",
       " '__and__',\n",
       " '__annotations__',\n",
       " '__array__',\n",
       " '__array_priority__',\n",
       " '__array_ufunc__',\n",
       " '__bool__',\n",
       " '__class__',\n",
       " '__column_consortium_standard__',\n",
       " '__contains__',\n",
       " '__copy__',\n",
       " '__deepcopy__',\n",
       " '__delattr__',\n",
       " '__delitem__',\n",
       " '__dict__',\n",
       " '__dir__',\n",
       " '__divmod__',\n",
       " '__doc__',\n",
       " '__eq__',\n",
       " '__finalize__',\n",
       " '__float__',\n",
       " '__floordiv__',\n",
       " '__format__',\n",
       " '__ge__',\n",
       " '__getattr__',\n",
       " '__getattribute__',\n",
       " '__getitem__',\n",
       " '__getstate__',\n",
       " '__gt__',\n",
       " '__hash__',\n",
       " '__iadd__',\n",
       " '__iand__',\n",
       " '__ifloordiv__',\n",
       " '__imod__',\n",
       " '__imul__',\n",
       " '__init__',\n",
       " '__init_subclass__',\n",
       " '__int__',\n",
       " '__invert__',\n",
       " '__ior__',\n",
       " '__ipow__',\n",
       " '__isub__',\n",
       " '__iter__',\n",
       " '__itruediv__',\n",
       " '__ixor__',\n",
       " '__le__',\n",
       " '__len__',\n",
       " '__lt__',\n",
       " '__matmul__',\n",
       " '__mod__',\n",
       " '__module__',\n",
       " '__mul__',\n",
       " '__ne__',\n",
       " '__neg__',\n",
       " '__new__',\n",
       " '__nonzero__',\n",
       " '__or__',\n",
       " '__pandas_priority__',\n",
       " '__pos__',\n",
       " '__pow__',\n",
       " '__radd__',\n",
       " '__rand__',\n",
       " '__rdivmod__',\n",
       " '__reduce__',\n",
       " '__reduce_ex__',\n",
       " '__repr__',\n",
       " '__rfloordiv__',\n",
       " '__rmatmul__',\n",
       " '__rmod__',\n",
       " '__rmul__',\n",
       " '__ror__',\n",
       " '__round__',\n",
       " '__rpow__',\n",
       " '__rsub__',\n",
       " '__rtruediv__',\n",
       " '__rxor__',\n",
       " '__setattr__',\n",
       " '__setitem__',\n",
       " '__setstate__',\n",
       " '__sizeof__',\n",
       " '__str__',\n",
       " '__sub__',\n",
       " '__subclasshook__',\n",
       " '__truediv__',\n",
       " '__weakref__',\n",
       " '__xor__',\n",
       " '_accessors',\n",
       " '_accum_func',\n",
       " '_agg_examples_doc',\n",
       " '_agg_see_also_doc',\n",
       " '_align_for_op',\n",
       " '_align_frame',\n",
       " '_align_series',\n",
       " '_append',\n",
       " '_arith_method',\n",
       " '_as_manager',\n",
       " '_binop',\n",
       " '_can_hold_na',\n",
       " '_check_inplace_and_allows_duplicate_labels',\n",
       " '_check_is_chained_assignment_possible',\n",
       " '_check_label_or_level_ambiguity',\n",
       " '_check_setitem_copy',\n",
       " '_clear_item_cache',\n",
       " '_clip_with_one_bound',\n",
       " '_clip_with_scalar',\n",
       " '_cmp_method',\n",
       " '_consolidate',\n",
       " '_consolidate_inplace',\n",
       " '_construct_axes_dict',\n",
       " '_construct_result',\n",
       " '_constructor',\n",
       " '_constructor_expanddim',\n",
       " '_constructor_expanddim_from_mgr',\n",
       " '_constructor_from_mgr',\n",
       " '_data',\n",
       " '_deprecate_downcast',\n",
       " '_dir_additions',\n",
       " '_dir_deletions',\n",
       " '_drop_axis',\n",
       " '_drop_labels_or_levels',\n",
       " '_duplicated',\n",
       " '_find_valid_index',\n",
       " '_flex_method',\n",
       " '_from_mgr',\n",
       " '_get_axis',\n",
       " '_get_axis_name',\n",
       " '_get_axis_number',\n",
       " '_get_axis_resolvers',\n",
       " '_get_block_manager_axis',\n",
       " '_get_bool_data',\n",
       " '_get_cacher',\n",
       " '_get_cleaned_column_resolvers',\n",
       " '_get_index_resolvers',\n",
       " '_get_label_or_level_values',\n",
       " '_get_numeric_data',\n",
       " '_get_rows_with_mask',\n",
       " '_get_value',\n",
       " '_get_values_tuple',\n",
       " '_get_with',\n",
       " '_getitem_slice',\n",
       " '_gotitem',\n",
       " '_hidden_attrs',\n",
       " '_indexed_same',\n",
       " '_info_axis',\n",
       " '_info_axis_name',\n",
       " '_info_axis_number',\n",
       " '_init_dict',\n",
       " '_init_mgr',\n",
       " '_inplace_method',\n",
       " '_internal_names',\n",
       " '_internal_names_set',\n",
       " '_is_cached',\n",
       " '_is_copy',\n",
       " '_is_label_or_level_reference',\n",
       " '_is_label_reference',\n",
       " '_is_level_reference',\n",
       " '_is_mixed_type',\n",
       " '_is_view',\n",
       " '_is_view_after_cow_rules',\n",
       " '_ixs',\n",
       " '_logical_func',\n",
       " '_logical_method',\n",
       " '_map_values',\n",
       " '_maybe_update_cacher',\n",
       " '_memory_usage',\n",
       " '_metadata',\n",
       " '_min_count_stat_function',\n",
       " '_needs_reindex_multi',\n",
       " '_pad_or_backfill',\n",
       " '_protect_consolidate',\n",
       " '_reduce',\n",
       " '_references',\n",
       " '_reindex_axes',\n",
       " '_reindex_indexer',\n",
       " '_reindex_multi',\n",
       " '_reindex_with_indexers',\n",
       " '_rename',\n",
       " '_replace_single',\n",
       " '_repr_data_resource_',\n",
       " '_repr_latex_',\n",
       " '_reset_cache',\n",
       " '_reset_cacher',\n",
       " '_set_as_cached',\n",
       " '_set_axis',\n",
       " '_set_axis_name',\n",
       " '_set_axis_nocheck',\n",
       " '_set_is_copy',\n",
       " '_set_labels',\n",
       " '_set_name',\n",
       " '_set_value',\n",
       " '_set_values',\n",
       " '_set_with',\n",
       " '_set_with_engine',\n",
       " '_shift_with_freq',\n",
       " '_slice',\n",
       " '_stat_function',\n",
       " '_stat_function_ddof',\n",
       " '_take_with_is_copy',\n",
       " '_to_latex_via_styler',\n",
       " '_typ',\n",
       " '_update_inplace',\n",
       " '_validate_dtype',\n",
       " '_values',\n",
       " '_where',\n",
       " 'abs',\n",
       " 'add',\n",
       " 'add_prefix',\n",
       " 'add_suffix',\n",
       " 'agg',\n",
       " 'aggregate',\n",
       " 'align',\n",
       " 'all',\n",
       " 'any',\n",
       " 'apply',\n",
       " 'argmax',\n",
       " 'argmin',\n",
       " 'argsort',\n",
       " 'array',\n",
       " 'asfreq',\n",
       " 'asof',\n",
       " 'astype',\n",
       " 'at',\n",
       " 'at_time',\n",
       " 'attrs',\n",
       " 'autocorr',\n",
       " 'axes',\n",
       " 'backfill',\n",
       " 'between',\n",
       " 'between_time',\n",
       " 'bfill',\n",
       " 'bool',\n",
       " 'case_when',\n",
       " 'cat',\n",
       " 'clip',\n",
       " 'combine',\n",
       " 'combine_first',\n",
       " 'compare',\n",
       " 'convert_dtypes',\n",
       " 'copy',\n",
       " 'corr',\n",
       " 'count',\n",
       " 'cov',\n",
       " 'cummax',\n",
       " 'cummin',\n",
       " 'cumprod',\n",
       " 'cumsum',\n",
       " 'describe',\n",
       " 'diff',\n",
       " 'div',\n",
       " 'divide',\n",
       " 'divmod',\n",
       " 'dot',\n",
       " 'drop',\n",
       " 'drop_duplicates',\n",
       " 'droplevel',\n",
       " 'dropna',\n",
       " 'dt',\n",
       " 'dtype',\n",
       " 'dtypes',\n",
       " 'duplicated',\n",
       " 'empty',\n",
       " 'eq',\n",
       " 'equals',\n",
       " 'ewm',\n",
       " 'expanding',\n",
       " 'explode',\n",
       " 'factorize',\n",
       " 'ffill',\n",
       " 'fillna',\n",
       " 'filter',\n",
       " 'first',\n",
       " 'first_valid_index',\n",
       " 'flags',\n",
       " 'floordiv',\n",
       " 'ge',\n",
       " 'get',\n",
       " 'groupby',\n",
       " 'gt',\n",
       " 'hasnans',\n",
       " 'head',\n",
       " 'hist',\n",
       " 'iat',\n",
       " 'idxmax',\n",
       " 'idxmin',\n",
       " 'iloc',\n",
       " 'index',\n",
       " 'infer_objects',\n",
       " 'info',\n",
       " 'interpolate',\n",
       " 'is_monotonic_decreasing',\n",
       " 'is_monotonic_increasing',\n",
       " 'is_unique',\n",
       " 'isin',\n",
       " 'isna',\n",
       " 'isnull',\n",
       " 'item',\n",
       " 'items',\n",
       " 'keys',\n",
       " 'kurt',\n",
       " 'kurtosis',\n",
       " 'last',\n",
       " 'last_valid_index',\n",
       " 'le',\n",
       " 'list',\n",
       " 'loc',\n",
       " 'lt',\n",
       " 'map',\n",
       " 'mask',\n",
       " 'max',\n",
       " 'mean',\n",
       " 'median',\n",
       " 'memory_usage',\n",
       " 'min',\n",
       " 'mod',\n",
       " 'mode',\n",
       " 'mul',\n",
       " 'multiply',\n",
       " 'name',\n",
       " 'nbytes',\n",
       " 'ndim',\n",
       " 'ne',\n",
       " 'nlargest',\n",
       " 'notna',\n",
       " 'notnull',\n",
       " 'nsmallest',\n",
       " 'nunique',\n",
       " 'pad',\n",
       " 'pct_change',\n",
       " 'pipe',\n",
       " 'plot',\n",
       " 'pop',\n",
       " 'pow',\n",
       " 'prod',\n",
       " 'product',\n",
       " 'quantile',\n",
       " 'radd',\n",
       " 'rank',\n",
       " 'ravel',\n",
       " 'rdiv',\n",
       " 'rdivmod',\n",
       " 'reindex',\n",
       " 'reindex_like',\n",
       " 'rename',\n",
       " 'rename_axis',\n",
       " 'reorder_levels',\n",
       " 'repeat',\n",
       " 'replace',\n",
       " 'resample',\n",
       " 'reset_index',\n",
       " 'rfloordiv',\n",
       " 'rmod',\n",
       " 'rmul',\n",
       " 'rolling',\n",
       " 'round',\n",
       " 'rpow',\n",
       " 'rsub',\n",
       " 'rtruediv',\n",
       " 'sample',\n",
       " 'searchsorted',\n",
       " 'sem',\n",
       " 'set_axis',\n",
       " 'set_flags',\n",
       " 'shape',\n",
       " 'shift',\n",
       " 'size',\n",
       " 'skew',\n",
       " 'sort_index',\n",
       " 'sort_values',\n",
       " 'sparse',\n",
       " 'squeeze',\n",
       " 'std',\n",
       " 'str',\n",
       " 'struct',\n",
       " 'sub',\n",
       " 'subtract',\n",
       " 'sum',\n",
       " 'swapaxes',\n",
       " 'swaplevel',\n",
       " 'tail',\n",
       " 'take',\n",
       " 'to_clipboard',\n",
       " 'to_csv',\n",
       " 'to_dict',\n",
       " 'to_excel',\n",
       " 'to_frame',\n",
       " 'to_hdf',\n",
       " 'to_json',\n",
       " 'to_latex',\n",
       " 'to_list',\n",
       " 'to_markdown',\n",
       " 'to_numpy',\n",
       " 'to_period',\n",
       " 'to_pickle',\n",
       " 'to_sql',\n",
       " 'to_string',\n",
       " 'to_timestamp',\n",
       " 'to_xarray',\n",
       " 'tolist',\n",
       " 'transform',\n",
       " 'transpose',\n",
       " 'truediv',\n",
       " 'truncate',\n",
       " 'tz_convert',\n",
       " 'tz_localize',\n",
       " 'unique',\n",
       " 'unstack',\n",
       " 'update',\n",
       " 'value_counts',\n",
       " 'values',\n",
       " 'var',\n",
       " 'view',\n",
       " 'where',\n",
       " 'xs'}"
      ]
     },
     "execution_count": 4,
     "metadata": {},
     "output_type": "execute_result"
    }
   ],
   "source": [
    "set(dir(pd.Series))"
   ]
  },
  {
   "cell_type": "markdown",
   "metadata": {},
   "source": [
    "Pandas `DataFrame` and Pandas `Series` **sharing** common methods. As you can see there is a lot of functionality on both of these objects."
   ]
  },
  {
   "cell_type": "code",
   "execution_count": 8,
   "metadata": {},
   "outputs": [
    {
     "name": "stdout",
     "output_type": "stream",
     "text": [
      "Total Series methods: 419\n",
      "Total DataFrame methods: 437\n",
      "Common methods: 362\n"
     ]
    }
   ],
   "source": [
    "series_attr_methods = set(dir(pd.Series))\n",
    "df_attr_methods = set(dir(pd.DataFrame))\n",
    "print(f'Total Series methods: {len(series_attr_methods)}\\nTotal DataFrame methods: {len(df_attr_methods)}')\n",
    "print(f'Common methods: {len(series_attr_methods & df_attr_methods)}')"
   ]
  },
  {
   "cell_type": "code",
   "execution_count": 9,
   "metadata": {},
   "outputs": [
    {
     "name": "stdout",
     "output_type": "stream",
     "text": [
      "<class 'pandas.core.frame.DataFrame'>\n",
      "RangeIndex: 9837 entries, 0 to 9836\n",
      "Data columns (total 9 columns):\n",
      " #   Column             Non-Null Count  Dtype  \n",
      "---  ------             --------------  -----  \n",
      " 0   Release_Date       9837 non-null   object \n",
      " 1   Title              9828 non-null   object \n",
      " 2   Overview           9828 non-null   object \n",
      " 3   Popularity         9827 non-null   float64\n",
      " 4   Vote_Count         9827 non-null   object \n",
      " 5   Vote_Average       9827 non-null   object \n",
      " 6   Original_Language  9827 non-null   object \n",
      " 7   Genre              9826 non-null   object \n",
      " 8   Poster_Url         9826 non-null   object \n",
      "dtypes: float64(1), object(8)\n",
      "memory usage: 691.8+ KB\n"
     ]
    }
   ],
   "source": [
    "movies.info()"
   ]
  },
  {
   "cell_type": "code",
   "execution_count": 12,
   "metadata": {},
   "outputs": [],
   "source": [
    "movies.columns = movies.columns.str.lower().str.replace(' ', '_')"
   ]
  },
  {
   "cell_type": "code",
   "execution_count": 13,
   "metadata": {},
   "outputs": [],
   "source": [
    "movies_titles = movies['title']\n",
    "popularity_movies = movies['popularity']"
   ]
  },
  {
   "cell_type": "code",
   "execution_count": 16,
   "metadata": {},
   "outputs": [
    {
     "name": "stdout",
     "output_type": "stream",
     "text": [
      "object\n",
      "float64\n"
     ]
    }
   ],
   "source": [
    "# check dtype series\n",
    "print(movies_titles.dtype)\n",
    "print(popularity_movies.dtype)"
   ]
  },
  {
   "cell_type": "markdown",
   "metadata": {},
   "source": [
    "#### Sample\n",
    "The `sample()` method in Pandas is used to extract a random sample of data from a DataFrame or a Series. You can specify how many rows you want to select, or if you want to perform the selection with or without replacement.\n",
    "\n",
    "##### Basic Syntax:\n",
    "```python\n",
    "DataFrame.sample(n=None, frac=None, replace=False, weights=None, random_state=None, axis=None)\n",
    "```\n",
    "\n",
    "##### Most Common Parameters:\n",
    "- **`n`**: Number of elements to select (integer). If `n` is provided, `frac` must be `None`.\n",
    "- **`frac`**: Proportion of data to select (a floating-point number). If `frac` is provided, `n` must be `None`.\n",
    "- **`replace`**: If `True`, the sample will be taken with replacement (i.e., selected elements may be selected multiple times). By default, it is `False` (without replacement).\n",
    "- **`random_state`**: Ensures the sample is reproducible if a specific value is set.\n",
    "- **`weights`**: Allows specifying different probabilities for selecting each item in the sample.\n",
    "- **`axis`**: If `0`, selects rows; if `1`, selects columns."
   ]
  },
  {
   "cell_type": "code",
   "execution_count": 17,
   "metadata": {},
   "outputs": [
    {
     "data": {
      "text/plain": [
       "9135                                           Steel Rain\n",
       "4252                              While You Were Sleeping\n",
       "3662                         Violet Evergarden: The Movie\n",
       "6454                                           Striptease\n",
       "518                                              Zootopia\n",
       "6220    Ghost in the Shell Arise - Border 4: Ghost Sta...\n",
       "5135                                     The Woman in Red\n",
       "8078                                        The Two Popes\n",
       "Name: title, dtype: object"
      ]
     },
     "execution_count": 17,
     "metadata": {},
     "output_type": "execute_result"
    }
   ],
   "source": [
    "movies_titles.sample(n=8, random_state=42)"
   ]
  },
  {
   "cell_type": "code",
   "execution_count": 19,
   "metadata": {},
   "outputs": [
    {
     "data": {
      "text/plain": [
       "7610     15.802\n",
       "2627     33.536\n",
       "453     111.633\n",
       "1074     62.450\n",
       "9266     13.889\n",
       "         ...   \n",
       "1068     62.667\n",
       "1499     50.759\n",
       "5242     20.297\n",
       "2646     33.379\n",
       "6044     18.461\n",
       "Name: popularity, Length: 984, dtype: float64"
      ]
     },
     "execution_count": 19,
     "metadata": {},
     "output_type": "execute_result"
    }
   ],
   "source": [
    "popularity_movies.sample(frac=0.1)"
   ]
  },
  {
   "cell_type": "markdown",
   "metadata": {},
   "source": [
    "for calculate frequencies in Series, you can use **value_counts()**. This method is typically more useful for Series with `object` data types but can ocassionally provide insight into `numeric` Series as well. In this case _popularity_movies_ receives exactly 6 votes which is equivalent to **14%** of popularity"
   ]
  },
  {
   "cell_type": "code",
   "execution_count": 20,
   "metadata": {},
   "outputs": [
    {
     "data": {
      "text/plain": [
       "title\n",
       "Beauty and the Beast                    4\n",
       "Alice in Wonderland                     4\n",
       "The Three Musketeers                    3\n",
       "Black Christmas                         3\n",
       "The Kid                                 3\n",
       "                                       ..\n",
       "Unlawful Entry                          1\n",
       "Badlands                                1\n",
       "Violent Delights                        1\n",
       "The Offering                            1\n",
       "The United States vs. Billie Holiday    1\n",
       "Name: count, Length: 9514, dtype: int64"
      ]
     },
     "execution_count": 20,
     "metadata": {},
     "output_type": "execute_result"
    }
   ],
   "source": [
    "movies_titles.value_counts()"
   ]
  },
  {
   "cell_type": "code",
   "execution_count": 21,
   "metadata": {},
   "outputs": [
    {
     "data": {
      "text/plain": [
       "popularity\n",
       "14.696    6\n",
       "13.510    5\n",
       "16.652    5\n",
       "14.773    5\n",
       "14.437    5\n",
       "         ..\n",
       "13.358    1\n",
       "59.425    1\n",
       "13.356    1\n",
       "13.355    1\n",
       "14.978    1\n",
       "Name: count, Length: 8160, dtype: int64"
      ]
     },
     "execution_count": 21,
     "metadata": {},
     "output_type": "execute_result"
    }
   ],
   "source": [
    "popularity_movies.value_counts()"
   ]
  },
  {
   "cell_type": "markdown",
   "metadata": {},
   "source": [
    "In Pandas, the **`Series`** object has several built-in attributes that provide useful information about the structure and size of the data. Three of the most common ones are **`.size`**, **`.shape`**, and **`.len`**.\n",
    "\n",
    "- **`.size`**: Returns the total number of elements in the Series.\n",
    "- **`.shape`**: Returns a tuple representing the shape (dimensions) of the Series (for a Series, it’s always `(n,)` where `n` is the number of elements).\n",
    "- **`len()`**: A built-in Python function that also returns the number of elements in the Series, similar to `.size`."
   ]
  },
  {
   "cell_type": "code",
   "execution_count": 26,
   "metadata": {},
   "outputs": [
    {
     "data": {
      "text/plain": [
       "9837"
      ]
     },
     "execution_count": 26,
     "metadata": {},
     "output_type": "execute_result"
    }
   ],
   "source": [
    "popularity_movies.size # size of series"
   ]
  },
  {
   "cell_type": "code",
   "execution_count": 27,
   "metadata": {},
   "outputs": [
    {
     "data": {
      "text/plain": [
       "(9837,)"
      ]
     },
     "execution_count": 27,
     "metadata": {},
     "output_type": "execute_result"
    }
   ],
   "source": [
    "movies_titles.shape"
   ]
  },
  {
   "cell_type": "code",
   "execution_count": 28,
   "metadata": {},
   "outputs": [
    {
     "data": {
      "text/plain": [
       "9837"
      ]
     },
     "execution_count": 28,
     "metadata": {},
     "output_type": "execute_result"
    }
   ],
   "source": [
    "len(movies_titles)"
   ]
  },
  {
   "cell_type": "markdown",
   "metadata": {},
   "source": [
    "`count` methods, which returns the count of **non-missing** values. In this case, `popularity_movies` has **10** missing values."
   ]
  },
  {
   "cell_type": "code",
   "execution_count": 30,
   "metadata": {},
   "outputs": [
    {
     "data": {
      "text/plain": [
       "np.int64(9827)"
      ]
     },
     "execution_count": 30,
     "metadata": {},
     "output_type": "execute_result"
    }
   ],
   "source": [
    "popularity_movies.count()"
   ]
  },
  {
   "cell_type": "markdown",
   "metadata": {},
   "source": [
    "#### Summary Statistics\n",
    "The methods **min()**, **max()**, **mean()**, **median()**,**std()** and **quantile()** in Pandas, following the requested format. These methods are often used for basic **statistical analysis** and can be applied to a Series or DataFrame in Pandas."
   ]
  },
  {
   "cell_type": "markdown",
   "metadata": {},
   "source": [
    "##### **`min()`**\n",
    "The **`min()`** method returns the **minimum value** from a Series or DataFrame. It is useful when you want to identify the lowest value in a dataset.\n",
    "\n",
    "**Basic Syntax**:\n",
    "```python\n",
    "Series.min(axis=None, skipna=True, *args, **kwargs)\n",
    "```\n",
    "\n",
    "**Most Common Parameters**:\n",
    "- **`axis`**: By default, it is `None`, meaning it applies to the entire Series or DataFrame. You can set it to `0` for rows and `1` for columns in DataFrame.\n",
    "- **`skipna`**: If `True`, it will exclude `NaN` values. If `False`, it will return `NaN` if any value is missing.\n",
    "\n",
    "**Math Description**:\n",
    "The **minimum** is the smallest value in the dataset."
   ]
  },
  {
   "cell_type": "code",
   "execution_count": 31,
   "metadata": {},
   "outputs": [
    {
     "data": {
      "text/plain": [
       "np.float64(7.1)"
      ]
     },
     "execution_count": 31,
     "metadata": {},
     "output_type": "execute_result"
    }
   ],
   "source": [
    "popularity_movies.min()"
   ]
  },
  {
   "cell_type": "markdown",
   "metadata": {},
   "source": [
    "##### **`max()`**\n",
    "The **`max()`** method returns the **maximum value** from a Series or DataFrame. It helps identify the highest value in a dataset.\n",
    "\n",
    "**Basic Syntax**:\n",
    "```python\n",
    "Series.max(axis=None, skipna=True, *args, **kwargs)\n",
    "```\n",
    "\n",
    "**Most Common Parameters**:\n",
    "- **`axis`**: Similar to `min()`, it defaults to `None` for Series, and can be set to `0` or `1` for DataFrames.\n",
    "- **`skipna`**: If `True`, it excludes `NaN` values during calculation.\n",
    "\n",
    "**Math Description**:\n",
    "The **maximum** is the largest value in the dataset."
   ]
  },
  {
   "cell_type": "code",
   "execution_count": 32,
   "metadata": {},
   "outputs": [
    {
     "data": {
      "text/plain": [
       "np.float64(5083.954)"
      ]
     },
     "execution_count": 32,
     "metadata": {},
     "output_type": "execute_result"
    }
   ],
   "source": [
    "popularity_movies.max()"
   ]
  },
  {
   "cell_type": "markdown",
   "metadata": {},
   "source": [
    "##### **`mean()`**\n",
    "The **`mean()`** method calculates the **average** (or arithmetic mean) of the values in a Series or DataFrame.\n",
    "\n",
    "**Basic Syntax**:\n",
    "```python\n",
    "Series.mean(axis=None, skipna=True, *args, **kwargs)\n",
    "```\n",
    "\n",
    "**Most Common Parameters**:\n",
    "- **`axis`**: Defaults to `None` for Series. For DataFrame, you can specify `0` (columns) or `1` (rows).\n",
    "- **`skipna`**: By default, it is `True`, meaning it will exclude `NaN` values from the calculation.\n",
    "\n",
    "**Math Description**:\n",
    "The **mean** is calculated as the sum of all values divided by the number of values:\n",
    "\n",
    "$\\text{Mean} = \\frac{\\sum x_i}{n}$\n",
    "\n",
    "Where \\(x_i\\) is each value in the dataset, and \\(n\\) is the total number of values."
   ]
  },
  {
   "cell_type": "code",
   "execution_count": 33,
   "metadata": {},
   "outputs": [
    {
     "data": {
      "text/plain": [
       "np.float64(40.32056996031343)"
      ]
     },
     "execution_count": 33,
     "metadata": {},
     "output_type": "execute_result"
    }
   ],
   "source": [
    "popularity_movies.mean()"
   ]
  },
  {
   "cell_type": "markdown",
   "metadata": {},
   "source": [
    "##### **`median()`**\n",
    "The **`median()`** method returns the **middle value** of a Series or DataFrame when the values are sorted in order. If there is an even number of values, it returns the average of the two middle values.\n",
    "\n",
    "**Basic Syntax**:\n",
    "```python\n",
    "Series.median(axis=None, skipna=True, *args, **kwargs)\n",
    "```\n",
    "\n",
    "**Most Common Parameters**:\n",
    "- **`axis`**: Defaults to `None` for Series. For DataFrames, you can specify `0` (columns) or `1` (rows).\n",
    "- **`skipna`**: By default, it is `True`, excluding `NaN` values.\n",
    "\n",
    "**Math Description**:\n",
    "The **median** is the middle value when the data is sorted. If there is an even number of values, it’s the average of the two middle values."
   ]
  },
  {
   "cell_type": "code",
   "execution_count": 34,
   "metadata": {},
   "outputs": [
    {
     "data": {
      "text/plain": [
       "np.float64(21.191)"
      ]
     },
     "execution_count": 34,
     "metadata": {},
     "output_type": "execute_result"
    }
   ],
   "source": [
    "popularity_movies.median()"
   ]
  },
  {
   "cell_type": "markdown",
   "metadata": {},
   "source": [
    "##### **`std()`**\n",
    "The **`std()`** method calculates the **standard deviation** of the values in a Series or DataFrame, which is a measure of the amount of variation or dispersion of the data.\n",
    "\n",
    "**Basic Syntax**:\n",
    "```python\n",
    "Series.std(axis=None, skipna=True, ddof=1, *args, **kwargs)\n",
    "```\n",
    "\n",
    "**Most Common Parameters**:\n",
    "- **`axis`**: Defaults to `None`. For DataFrames, `0` means calculating column-wise and `1` row-wise.\n",
    "- **`skipna`**: Excludes `NaN` values by default.\n",
    "- **`ddof`**: Delta Degrees of Freedom. The default value is `1`, which gives the sample standard deviation. If set to `0`, it gives the population standard deviation.\n",
    "\n",
    "**Math Description**:\n",
    "The **standard deviation** measures the spread of data points around the mean and is calculated as:\n",
    "\n",
    "$\\text{Standard Deviation} = \\sqrt{\\frac{1}{n-1} \\sum_{i=1}^{n} (x_i - \\text{mean})^2}$\n",
    "\n",
    "Where \\(x_i\\) are the values, and \\(n\\) is the number of values in the dataset.\n"
   ]
  },
  {
   "cell_type": "code",
   "execution_count": 35,
   "metadata": {},
   "outputs": [
    {
     "data": {
      "text/plain": [
       "np.float64(108.87430773029483)"
      ]
     },
     "execution_count": 35,
     "metadata": {},
     "output_type": "execute_result"
    }
   ],
   "source": [
    "popularity_movies.std()"
   ]
  },
  {
   "cell_type": "markdown",
   "metadata": {},
   "source": [
    "##### **`quantile()`**  \n",
    "The **`quantile()`** method calculates the specified **quantile value** of a Series or DataFrame, which helps in understanding the distribution of data. Quantiles divide the data into equal parts, making it useful for statistical analysis and outlier detection.  \n",
    "\n",
    "**Basic Syntax**:  \n",
    "```python\n",
    "Series.quantile(q=0.5, interpolation='linear')\n",
    "DataFrame.quantile(q=0.5, axis=0, numeric_only=True, interpolation='linear')\n",
    "```  \n",
    "\n",
    "**Most Common Parameters**:  \n",
    "- **`q`**: A float or list of floats between `0` and `1`, representing the quantile(s) to compute.  \n",
    "  - `q=0.25` (25th percentile, Q1)  \n",
    "  - `q=0.50` (50th percentile, median, Q2)  \n",
    "  - `q=0.75` (75th percentile, Q3)  \n",
    "- **`axis`**: Determines whether to calculate quantiles along rows (`axis=0`) or columns (`axis=1` in DataFrames).  \n",
    "- **`numeric_only`**: If `True`, it includes only numeric columns, excluding non-numeric data.  \n",
    "- **`interpolation`**: Defines how to handle cases where the desired quantile falls between two values (default is `'linear'`).  \n",
    "\n",
    "**Math Description**:  \n",
    "A **quantile** is a value that divides the dataset into equal-sized parts. The formula for computing a quantile for a dataset sorted in ascending order is:  \n",
    "\n",
    "$Q_q = x_{\\lceil q(n-1) \\rceil}$\n",
    "\n",
    "where:  \n",
    "- \\( $q$ \\) is the desired quantile (e.g., 0.25 for Q1).  \n",
    "- \\( $n$ \\) is the total number of data points.  \n",
    "- \\( $x$ \\) represents the ordered dataset.  \n",
    "- \\( $\\lceil$ \\) and \\( $\\rceil$ \\) indicate rounding based on the interpolation method.  \n",
    "\n",
    "**Use Case**:  \n",
    "- Helps in identifying **outliers** using the **Interquartile Range (IQR)** formula:  \n",
    "  $IQR = Q3 - Q1$\n",
    "\n",
    "  Any value **below** \\( $Q1 - 1.5 \\times IQR$ \\) or **above** \\( $Q3 + 1.5 \\times IQR$ \\) is considered an outlier.  \n",
    "- Commonly used in **data analysis, statistical modeling, and machine learning** for handling skewed distributions."
   ]
  },
  {
   "cell_type": "code",
   "execution_count": 39,
   "metadata": {},
   "outputs": [
    {
     "data": {
      "text/plain": [
       "0.1    14.2870\n",
       "0.2    15.4232\n",
       "0.3    16.8852\n",
       "0.4    18.7250\n",
       "0.5    21.1910\n",
       "0.6    24.8046\n",
       "0.7    30.5898\n",
       "0.8    41.0882\n",
       "0.9    66.2102\n",
       "Name: popularity, dtype: float64"
      ]
     },
     "execution_count": 39,
     "metadata": {},
     "output_type": "execute_result"
    }
   ],
   "source": [
    "quantiles = np.array([0.1, 0.2, 0.3, 0.4, 0.5, 0.6, 0.7, 0.8, 0.9])\n",
    "popularity_movies.quantile(quantiles)"
   ]
  },
  {
   "cell_type": "markdown",
   "metadata": {},
   "source": [
    "##### **What patterns can we see?**  \n",
    "- **Skewed distribution**:  \n",
    "  - The difference between **Q1 (14.2870)** and the **median (21.1910)** is small.  \n",
    "  - However, the difference between **Q3 (41.0882)** and the **90th percentile (66.2102)** is large.  \n",
    "  - This indicates that **some movies have extremely high popularity**, suggesting that the distribution is **right-skewed** (a few movies are significantly more popular than most).  \n",
    "\n",
    "- **Average vs. popular movies**:  \n",
    "  - **Half of the movies (Q2, the median) have a popularity below 21.1910**, meaning that **a movie with a popularity of 22 is not really \"high\"**.  \n",
    "  - The **truly popular movies** are in the **90th percentile (66.2102)**, meaning that a movie with a popularity above ~66 is in the **top 10% of the most viewed, voted, or favorited movies**."
   ]
  },
  {
   "cell_type": "markdown",
   "metadata": {},
   "source": [
    "You may use the `.describe` method to return both the summary statistics and a few of the quantiles at once. When `.describe` is used with an `object` data type column, a completely different output is returned"
   ]
  },
  {
   "cell_type": "code",
   "execution_count": 36,
   "metadata": {},
   "outputs": [
    {
     "data": {
      "text/plain": [
       "count    9827.000000\n",
       "mean       40.320570\n",
       "std       108.874308\n",
       "min         7.100000\n",
       "25%        16.127500\n",
       "50%        21.191000\n",
       "75%        35.174500\n",
       "max      5083.954000\n",
       "Name: popularity, dtype: float64"
      ]
     },
     "execution_count": 36,
     "metadata": {},
     "output_type": "execute_result"
    }
   ],
   "source": [
    "popularity_movies.describe()"
   ]
  },
  {
   "cell_type": "code",
   "execution_count": 37,
   "metadata": {},
   "outputs": [
    {
     "data": {
      "text/plain": [
       "count                     9828\n",
       "unique                    9514\n",
       "top       Beauty and the Beast\n",
       "freq                         4\n",
       "Name: title, dtype: object"
      ]
     },
     "execution_count": 37,
     "metadata": {},
     "output_type": "execute_result"
    }
   ],
   "source": [
    "movies_titles.describe()"
   ]
  },
  {
   "cell_type": "code",
   "execution_count": 41,
   "metadata": {},
   "outputs": [
    {
     "data": {
      "text/plain": [
       "np.int64(10)"
      ]
     },
     "execution_count": 41,
     "metadata": {},
     "output_type": "execute_result"
    }
   ],
   "source": [
    "popularity_movies.isna().sum()"
   ]
  },
  {
   "cell_type": "markdown",
   "metadata": {},
   "source": [
    "#### Summary Statistics\n",
    "The methods **min()**, **max()**, **mean()**, **median()**,**std()** and **quantile()** in Pandas, following the requested format. These methods are often used for basic **statistical analysis** and can be applied to a Series or DataFrame in Pandas."
   ]
  },
  {
   "cell_type": "markdown",
   "metadata": {},
   "source": [
    "#### **Handling Missing Values in Pandas**  \n",
    "Missing values are common in real-world datasets. Pandas provides several methods to detect, fill, or remove missing data, ensuring cleaner and more reliable analysis.\n",
    "\n",
    "---\n",
    "\n",
    "##### **`.isna()`**  \n",
    "The **`.isna()`** method checks for missing (`NaN`) values in a Series or DataFrame, returning a boolean mask.  \n",
    "\n",
    "**Basic Syntax**:  \n",
    "```python\n",
    "Series.isna()\n",
    "DataFrame.isna()\n",
    "```\n",
    "\n",
    "**Most Common Use Case**:  \n",
    "- Helps identify missing values for data cleaning."
   ]
  },
  {
   "cell_type": "code",
   "execution_count": 46,
   "metadata": {},
   "outputs": [
    {
     "name": "stdout",
     "output_type": "stream",
     "text": [
      "Nulls values in popularity_movies: 10\n"
     ]
    }
   ],
   "source": [
    "print(f\"Nulls values in popularity_movies: {popularity_movies.isna().sum()}\")"
   ]
  },
  {
   "cell_type": "code",
   "execution_count": 47,
   "metadata": {},
   "outputs": [
    {
     "name": "stdout",
     "output_type": "stream",
     "text": [
      "Nulls values in movies_titles: 9\n"
     ]
    }
   ],
   "source": [
    "print(f\"Nulls values in movies_titles: {movies_titles.isna().sum()}\")"
   ]
  },
  {
   "cell_type": "markdown",
   "metadata": {},
   "source": [
    "##### **`.fillna()`**  \n",
    "The **`.fillna()`** method replaces missing values with a specified value or strategy.  \n",
    "\n",
    "**Basic Syntax**:  \n",
    "```python\n",
    "Series.fillna(value, method=None)\n",
    "DataFrame.fillna(value, method=None, axis=None)\n",
    "```\n",
    "\n",
    "**Most Common Parameters**:  \n",
    "- **`value`**: The value used to replace `NaN` (e.g., `0`, `mean()`, `\"unknown\"`).  \n",
    "- **`method`**: Use `\"ffill\"` (forward fill) or `\"bfill\"` (backward fill) to propagate values. "
   ]
  },
  {
   "cell_type": "code",
   "execution_count": 53,
   "metadata": {},
   "outputs": [
    {
     "name": "stdout",
     "output_type": "stream",
     "text": [
      "Nulls values in popularity_movies: 0\n",
      "Nulls values in popularity_movies: 0\n"
     ]
    }
   ],
   "source": [
    "# Replace the null values with the median\n",
    "print(f\"Nulls values in popularity_movies: {popularity_movies.isna().sum()}\")\n",
    "popularity_movies_filled = popularity_movies.fillna(popularity_movies.median())\n",
    "print(f\"Nulls values in popularity_movies: {popularity_movies_filled.isna().sum()}\")"
   ]
  },
  {
   "cell_type": "code",
   "execution_count": 52,
   "metadata": {},
   "outputs": [
    {
     "name": "stdout",
     "output_type": "stream",
     "text": [
      "Nulls values in movies_titles: 9\n",
      "Nulls values in movies_titles: 0\n"
     ]
    }
   ],
   "source": [
    "print(f\"Nulls values in movies_titles: {movies_titles.isna().sum()}\")\n",
    "movies_titles_filled = movies_titles.fillna('Missing Title')\n",
    "print(f\"Nulls values in movies_titles: {movies_titles_filled.isna().sum()}\")"
   ]
  },
  {
   "cell_type": "markdown",
   "metadata": {},
   "source": [
    "##### **`.dropna()`**  \n",
    "The **`.dropna()`** method removes rows or columns containing missing values.  \n",
    "\n",
    "**Basic Syntax**:  \n",
    "```python\n",
    "Series.dropna()\n",
    "DataFrame.dropna(axis=0, how='any')\n",
    "```\n",
    "\n",
    "**Most Common Parameters**:  \n",
    "- **`axis=0`**: Drops rows with `NaN` (default).  \n",
    "- **`axis=1`**: Drops columns with `NaN`.  \n",
    "- **`how='any'`**: Removes rows/columns with at least one `NaN`.  \n",
    "- **`how='all'`**: Removes rows/columns only if all values are `NaN`."
   ]
  },
  {
   "cell_type": "code",
   "execution_count": 54,
   "metadata": {},
   "outputs": [
    {
     "data": {
      "text/plain": [
       "9828"
      ]
     },
     "execution_count": 54,
     "metadata": {},
     "output_type": "execute_result"
    }
   ],
   "source": [
    "movies_title_dropped = movies_titles.dropna()\n",
    "movies_title_dropped.size"
   ]
  },
  {
   "cell_type": "markdown",
   "metadata": {},
   "source": [
    "### 2.2 Series Operations\n",
    "There exis a lot number of operators in Python for manipuling objects. \n",
    "\n",
    "`Series` and `DataFrames` support many of the Python operators. Typically, a new Series or DataFrame is returned when using a operator."
   ]
  },
  {
   "cell_type": "code",
   "execution_count": 72,
   "metadata": {},
   "outputs": [
    {
     "name": "stdout",
     "output_type": "stream",
     "text": [
      "<class 'pandas.core.frame.DataFrame'>\n",
      "RangeIndex: 9837 entries, 0 to 9836\n",
      "Data columns (total 9 columns):\n",
      " #   Column             Non-Null Count  Dtype  \n",
      "---  ------             --------------  -----  \n",
      " 0   release_date       9837 non-null   object \n",
      " 1   title              9828 non-null   object \n",
      " 2   overview           9828 non-null   object \n",
      " 3   popularity         9827 non-null   float64\n",
      " 4   vote_count         9827 non-null   object \n",
      " 5   vote_average       9827 non-null   object \n",
      " 6   original_language  9827 non-null   object \n",
      " 7   genre              9826 non-null   object \n",
      " 8   poster_url         9826 non-null   object \n",
      "dtypes: float64(1), object(8)\n",
      "memory usage: 691.8+ KB\n"
     ]
    }
   ],
   "source": [
    "movies.info()"
   ]
  },
  {
   "cell_type": "code",
   "execution_count": 73,
   "metadata": {},
   "outputs": [
    {
     "data": {
      "text/plain": [
       "dtype('O')"
      ]
     },
     "execution_count": 73,
     "metadata": {},
     "output_type": "execute_result"
    }
   ],
   "source": [
    "avg_rating = movies['vote_average']\n",
    "avg_rating.dtype"
   ]
  },
  {
   "cell_type": "code",
   "execution_count": 74,
   "metadata": {},
   "outputs": [
    {
     "data": {
      "text/plain": [
       "dtype('float64')"
      ]
     },
     "execution_count": 74,
     "metadata": {},
     "output_type": "execute_result"
    }
   ],
   "source": [
    "avg_rating = pd.to_numeric(avg_rating, errors='coerce')\n",
    "avg_rating.dtype"
   ]
  },
  {
   "cell_type": "code",
   "execution_count": 75,
   "metadata": {},
   "outputs": [
    {
     "name": "stdout",
     "output_type": "stream",
     "text": [
      "===ANALYSIS===\n",
      "Null ratings: 11\n",
      "Complete ratings: 9826\n"
     ]
    },
    {
     "data": {
      "text/plain": [
       "0    8.3\n",
       "1    8.1\n",
       "2    6.3\n",
       "3    7.7\n",
       "4    7.0\n",
       "Name: vote_average, dtype: float64"
      ]
     },
     "execution_count": 75,
     "metadata": {},
     "output_type": "execute_result"
    }
   ],
   "source": [
    "print(\"===ANALYSIS===\")\n",
    "print(f\"Null ratings: {avg_rating.isna().sum()}\")\n",
    "print(f\"Complete ratings: {avg_rating.count()}\")\n",
    "avg_rating.head()"
   ]
  },
  {
   "cell_type": "markdown",
   "metadata": {},
   "source": [
    "Use the plus operator to add one to each `Series` element"
   ]
  },
  {
   "cell_type": "code",
   "execution_count": 76,
   "metadata": {},
   "outputs": [
    {
     "data": {
      "text/plain": [
       "0       9.3\n",
       "1       9.1\n",
       "2       7.3\n",
       "3       8.7\n",
       "4       8.0\n",
       "       ... \n",
       "9832    8.6\n",
       "9833    4.5\n",
       "9834    6.0\n",
       "9835    7.7\n",
       "9836    8.8\n",
       "Name: vote_average, Length: 9837, dtype: float64"
      ]
     },
     "execution_count": 76,
     "metadata": {},
     "output_type": "execute_result"
    }
   ],
   "source": [
    "avg_rating + 1"
   ]
  },
  {
   "cell_type": "markdown",
   "metadata": {},
   "source": [
    "The other basic aritmethic operators, minus, multiplication, division, and exponentiation (**) work similarly with scalar values."
   ]
  },
  {
   "cell_type": "code",
   "execution_count": 77,
   "metadata": {},
   "outputs": [
    {
     "data": {
      "text/plain": [
       "0       1.245\n",
       "1       1.215\n",
       "2       0.945\n",
       "3       1.155\n",
       "4       1.050\n",
       "        ...  \n",
       "9832    1.140\n",
       "9833    0.525\n",
       "9834    0.750\n",
       "9835    1.005\n",
       "9836    1.170\n",
       "Name: vote_average, Length: 9837, dtype: float64"
      ]
     },
     "execution_count": 77,
     "metadata": {},
     "output_type": "execute_result"
    }
   ],
   "source": [
    "avg_rating * 0.15"
   ]
  },
  {
   "cell_type": "code",
   "execution_count": 78,
   "metadata": {},
   "outputs": [
    {
     "data": {
      "text/plain": [
       "0       6.8\n",
       "1       6.6\n",
       "2       4.8\n",
       "3       6.2\n",
       "4       5.5\n",
       "       ... \n",
       "9832    6.1\n",
       "9833    2.0\n",
       "9834    3.5\n",
       "9835    5.2\n",
       "9836    6.3\n",
       "Name: vote_average, Length: 9837, dtype: float64"
      ]
     },
     "execution_count": 78,
     "metadata": {},
     "output_type": "execute_result"
    }
   ],
   "source": [
    "avg_rating - 1.5"
   ]
  },
  {
   "cell_type": "markdown",
   "metadata": {},
   "source": [
    "Yoy can use `//` for floor divisiob. The floor division operator truncates the result of the division."
   ]
  },
  {
   "cell_type": "code",
   "execution_count": 79,
   "metadata": {},
   "outputs": [
    {
     "data": {
      "text/plain": [
       "0       4.0\n",
       "1       4.0\n",
       "2       3.0\n",
       "3       3.0\n",
       "4       3.0\n",
       "       ... \n",
       "9832    3.0\n",
       "9833    1.0\n",
       "9834    2.0\n",
       "9835    3.0\n",
       "9836    3.0\n",
       "Name: vote_average, Length: 9837, dtype: float64"
      ]
     },
     "execution_count": 79,
     "metadata": {},
     "output_type": "execute_result"
    }
   ],
   "source": [
    "avg_rating // 2"
   ]
  },
  {
   "cell_type": "markdown",
   "metadata": {},
   "source": [
    "There exist six comparision operators. The result is a Boolean array, which is very useful for filtering data.\n",
    "\n",
    "Here is a table of the six comparison operators in Python:\n",
    "\n",
    "| Operator | Description              | Example       | Result  |\n",
    "|----------|--------------------------|--------------|---------|\n",
    "| `>`      | Greater than              | `5 > 3`      | `True`  |\n",
    "| `<`      | Less than                 | `5 < 3`      | `False` |\n",
    "| `>=`     | Greater than or equal to  | `5 >= 5`     | `True`  |\n",
    "| `<=`     | Less than or equal to     | `5 <= 3`     | `False` |\n",
    "| `==`     | Equal to                  | `5 == 5`     | `True`  |\n",
    "| `!=`     | Not equal to              | `5 != 3`     | `True`  |"
   ]
  },
  {
   "cell_type": "code",
   "execution_count": 80,
   "metadata": {},
   "outputs": [
    {
     "data": {
      "text/plain": [
       "0        True\n",
       "1        True\n",
       "2        True\n",
       "3        True\n",
       "4        True\n",
       "        ...  \n",
       "9832     True\n",
       "9833    False\n",
       "9834    False\n",
       "9835     True\n",
       "9836     True\n",
       "Name: vote_average, Length: 9837, dtype: bool"
      ]
     },
     "execution_count": 80,
     "metadata": {},
     "output_type": "execute_result"
    }
   ],
   "source": [
    "avg_rating > 5"
   ]
  },
  {
   "cell_type": "code",
   "execution_count": 83,
   "metadata": {},
   "outputs": [
    {
     "data": {
      "text/plain": [
       "0       False\n",
       "1        True\n",
       "2        True\n",
       "3        True\n",
       "4        True\n",
       "        ...  \n",
       "9832     True\n",
       "9833     True\n",
       "9834     True\n",
       "9835     True\n",
       "9836     True\n",
       "Name: vote_average, Length: 9837, dtype: bool"
      ]
     },
     "execution_count": 83,
     "metadata": {},
     "output_type": "execute_result"
    }
   ],
   "source": [
    "avg_rating != 8.3"
   ]
  },
  {
   "cell_type": "code",
   "execution_count": 85,
   "metadata": {},
   "outputs": [
    {
     "data": {
      "text/plain": [
       "0       False\n",
       "1       False\n",
       "2       False\n",
       "3        True\n",
       "4       False\n",
       "        ...  \n",
       "9832    False\n",
       "9833    False\n",
       "9834    False\n",
       "9835    False\n",
       "9836    False\n",
       "Name: vote_average, Length: 9837, dtype: bool"
      ]
     },
     "execution_count": 85,
     "metadata": {},
     "output_type": "execute_result"
    }
   ],
   "source": [
    "avg_rating == 7.7"
   ]
  },
  {
   "cell_type": "markdown",
   "metadata": {},
   "source": [
    "All of the operators used, have the equivalents that produce the exact same result. \n",
    "\n",
    "| Python Operator | Description                      | Pandas Equivalent | Operator Group        |\n",
    "|----------------|----------------------------------|-------------------|-----------------------|\n",
    "| `+`           | Addition                         | `.add()`          | Arithmetic            |\n",
    "| `-`           | Subtraction                      | `.sub()`          | Arithmetic            |\n",
    "| `*`           | Multiplication                   | `.mul()`          | Arithmetic            |\n",
    "| `/`           | Division                         | `.div()`          | Arithmetic            |\n",
    "| `//`          | Floor Division                   | `.floordiv()`     | Arithmetic            |\n",
    "| `%`           | Modulus (Remainder)              | `.mod()`          | Arithmetic            |\n",
    "| `**`          | Exponentiation                   | `.pow()`          | Arithmetic            |\n",
    "| `>`           | Greater than                     | `.gt()`           | Comparison            |\n",
    "| `<`           | Less than                        | `.lt()`           | Comparison            |\n",
    "| `>=`          | Greater than or equal to         | `.ge()`           | Comparison            |\n",
    "| `<=`          | Less than or equal to            | `.le()`           | Comparison            |\n",
    "| `==`          | Equal to                         | `.eq()`           | Comparison            |\n",
    "| `!=`          | Not equal to                     | `.ne()`           | Comparison            |\n",
    "| `&`           | Logical AND (bitwise)            | `.and_()`         | Logical (Bitwise)     |\n",
    "| `|`           | Logical OR (bitwise)             | `.or_()`          | Logical (Bitwise)     |\n",
    "| `^`           | Logical XOR (bitwise)            | `.xor()`          | Logical (Bitwise)     |\n",
    "| `~`           | Logical NOT (bitwise)            | `.invert()`       | Logical (Bitwise)     |"
   ]
  },
  {
   "cell_type": "code",
   "execution_count": 86,
   "metadata": {},
   "outputs": [
    {
     "data": {
      "text/plain": [
       "0       False\n",
       "1       False\n",
       "2        True\n",
       "3       False\n",
       "4        True\n",
       "        ...  \n",
       "9832     True\n",
       "9833     True\n",
       "9834     True\n",
       "9835     True\n",
       "9836    False\n",
       "Name: vote_average, Length: 9837, dtype: bool"
      ]
     },
     "execution_count": 86,
     "metadata": {},
     "output_type": "execute_result"
    }
   ],
   "source": [
    "avg_rating.lt(7.7)"
   ]
  },
  {
   "cell_type": "code",
   "execution_count": 87,
   "metadata": {},
   "outputs": [
    {
     "data": {
      "text/plain": [
       "0       -6.7\n",
       "1       -6.9\n",
       "2       -8.7\n",
       "3       -7.3\n",
       "4       -8.0\n",
       "        ... \n",
       "9832    -7.4\n",
       "9833   -11.5\n",
       "9834   -10.0\n",
       "9835    -8.3\n",
       "9836    -7.2\n",
       "Name: vote_average, Length: 9837, dtype: float64"
      ]
     },
     "execution_count": 87,
     "metadata": {},
     "output_type": "execute_result"
    }
   ],
   "source": [
    "avg_rating - 15"
   ]
  },
  {
   "cell_type": "markdown",
   "metadata": {},
   "source": [
    "The **sub** perfom substraction on Series, this allows you to specify a `fill_value` parameter to use in place of missing values."
   ]
  },
  {
   "cell_type": "code",
   "execution_count": 89,
   "metadata": {},
   "outputs": [
    {
     "data": {
      "text/plain": [
       "0       -6.7\n",
       "1       -6.9\n",
       "2       -8.7\n",
       "3       -7.3\n",
       "4       -8.0\n",
       "        ... \n",
       "9832    -7.4\n",
       "9833   -11.5\n",
       "9834   -10.0\n",
       "9835    -8.3\n",
       "9836    -7.2\n",
       "Name: vote_average, Length: 9837, dtype: float64"
      ]
     },
     "execution_count": 89,
     "metadata": {},
     "output_type": "execute_result"
    }
   ],
   "source": [
    "avg_rating.sub(15, fill_value=0)"
   ]
  },
  {
   "cell_type": "markdown",
   "metadata": {},
   "source": [
    "### 2.3 Chaining Series Methods\n",
    "In Python, every varaible points to an object, and many attributes and methods return new objects. This allows sequential invocation of methods using attribute access. This is called method `chaining or flow programming`.\n",
    "\n",
    "Although it is possible to write the entire method chain in a single unbroken line, it is far more palatable to write a single method per line.\n",
    "\n",
    "Personally, I recommend using a backslah (\\\\) for each line to indicate the continuation of the line in the next line for better readability.\n"
   ]
  },
  {
   "cell_type": "code",
   "execution_count": 90,
   "metadata": {},
   "outputs": [],
   "source": [
    "language = movies['original_language']"
   ]
  },
  {
   "cell_type": "code",
   "execution_count": 93,
   "metadata": {},
   "outputs": [
    {
     "data": {
      "text/plain": [
       "original_language\n",
       "en    7569\n",
       "ja     645\n",
       "es     339\n",
       "fr     292\n",
       "ko     170\n",
       "Name: count, dtype: int64"
      ]
     },
     "execution_count": 93,
     "metadata": {},
     "output_type": "execute_result"
    }
   ],
   "source": [
    "language.value_counts().head()"
   ]
  },
  {
   "cell_type": "code",
   "execution_count": 94,
   "metadata": {},
   "outputs": [
    {
     "data": {
      "text/plain": [
       "original_language\n",
       "EN    7569\n",
       "JA     645\n",
       "ES     339\n",
       "FR     292\n",
       "KO     170\n",
       "Name: count, dtype: int64"
      ]
     },
     "execution_count": 94,
     "metadata": {},
     "output_type": "execute_result"
    }
   ],
   "source": [
    "# standarize all in upper case\n",
    "language_upper = language.str.upper()\n",
    "language_upper.value_counts().head()"
   ]
  },
  {
   "cell_type": "code",
   "execution_count": 104,
   "metadata": {},
   "outputs": [
    {
     "name": "stdout",
     "output_type": "stream",
     "text": [
      "original_language\n",
      "EN    7569\n",
      "JA     645\n",
      "ES     339\n",
      "FR     292\n",
      "RU      83\n",
      "Name: count, dtype: int64\n"
     ]
    },
    {
     "data": {
      "text/plain": [
       "'EN'"
      ]
     },
     "execution_count": 104,
     "metadata": {},
     "output_type": "execute_result"
    }
   ],
   "source": [
    "# Select the titles with the most common languages\n",
    "# EN, ES, FR, RU, JA\n",
    "# Show the language with more titles.\n",
    "mask = language_upper.isin(\n",
    "    ['EN', 'ES', 'FR', 'RU', 'JA']\n",
    ")\n",
    "\n",
    "print (language_upper[mask].value_counts() \\\n",
    "    .head())\n",
    "\n",
    "language_upper[mask].value_counts() \\\n",
    "    .sort_index() \\\n",
    "    .head() \\\n",
    "    .idxmax()   "
   ]
  },
  {
   "cell_type": "markdown",
   "metadata": {},
   "source": [
    "One option for debugging chains is to call the `.pipe` method to show an intermediate value. The `.pipe` method on a `Series` needs to be passed a function that accepts a `Series` as input and can return anything."
   ]
  },
  {
   "cell_type": "code",
   "execution_count": 107,
   "metadata": {},
   "outputs": [
    {
     "data": {
      "text/plain": [
       "Index(['release_date', 'title', 'overview', 'popularity', 'vote_count',\n",
       "       'vote_average', 'original_language', 'genre', 'poster_url'],\n",
       "      dtype='object')"
      ]
     },
     "execution_count": 107,
     "metadata": {},
     "output_type": "execute_result"
    }
   ],
   "source": [
    "movies.columns"
   ]
  },
  {
   "cell_type": "code",
   "execution_count": 120,
   "metadata": {},
   "outputs": [],
   "source": [
    "def debug_release_movies(ser:pd.Series) -> pd.Series:\n",
    "    print(\"BEFORE\")\n",
    "    print(ser)\n",
    "    print(\"AFTER\")\n",
    "    print(ser)\n",
    "    return ser"
   ]
  },
  {
   "cell_type": "code",
   "execution_count": 108,
   "metadata": {},
   "outputs": [],
   "source": [
    "release_movies = movies['release_date']"
   ]
  },
  {
   "cell_type": "code",
   "execution_count": 122,
   "metadata": {},
   "outputs": [
    {
     "name": "stdout",
     "output_type": "stream",
     "text": [
      "BEFORE\n",
      "0   2021-12-15\n",
      "1   2022-03-01\n",
      "2   2022-02-25\n",
      "3   2021-11-24\n",
      "4   2021-12-22\n",
      "Name: release_date, dtype: datetime64[ns]\n",
      "AFTER\n",
      "0   2021-12-15\n",
      "1   2022-03-01\n",
      "2   2022-02-25\n",
      "3   2021-11-24\n",
      "4   2021-12-22\n",
      "Name: release_date, dtype: datetime64[ns]\n"
     ]
    }
   ],
   "source": [
    "# convert to datetime in format YYYY-MM-DD and fill nulls with 1900-01-01\n",
    "release_movies = pd.to_datetime(release_movies, \n",
    "                              errors='coerce', \n",
    "                              format='%Y-%m-%d') \\\n",
    "                .pipe(debug_release_movies) \\\n",
    "                .fillna('1900-01-01') \\\n",
    "                .head()"
   ]
  },
  {
   "cell_type": "markdown",
   "metadata": {},
   "source": [
    "If you want to create a global variable to store an intermediate value you can also use `.pipe`"
   ]
  },
  {
   "cell_type": "code",
   "execution_count": 123,
   "metadata": {},
   "outputs": [],
   "source": [
    "intermediate = None\n",
    "def get_intermediate(ser:pd.Series) -> pd.Series:\n",
    "    global intermediate\n",
    "    intermediate = ser\n",
    "    return ser"
   ]
  },
  {
   "cell_type": "code",
   "execution_count": 124,
   "metadata": {},
   "outputs": [],
   "source": [
    "debug_intermediate = pd.to_datetime(release_movies, \n",
    "                              errors='coerce', \n",
    "                              format='%Y-%m-%d') \\\n",
    "                .pipe(get_intermediate) \\\n",
    "                .fillna('1900-01-01') \\\n",
    "                .head()"
   ]
  },
  {
   "cell_type": "code",
   "execution_count": 125,
   "metadata": {},
   "outputs": [
    {
     "data": {
      "text/plain": [
       "0   2021-12-15\n",
       "1   2022-03-01\n",
       "2   2022-02-25\n",
       "3   2021-11-24\n",
       "4   2021-12-22\n",
       "Name: release_date, dtype: datetime64[ns]"
      ]
     },
     "execution_count": 125,
     "metadata": {},
     "output_type": "execute_result"
    }
   ],
   "source": [
    "debug_intermediate"
   ]
  },
  {
   "cell_type": "code",
   "execution_count": 126,
   "metadata": {},
   "outputs": [
    {
     "data": {
      "text/plain": [
       "0   2021-12-15\n",
       "1   2022-03-01\n",
       "2   2022-02-25\n",
       "3   2021-11-24\n",
       "4   2021-12-22\n",
       "Name: release_date, dtype: datetime64[ns]"
      ]
     },
     "execution_count": 126,
     "metadata": {},
     "output_type": "execute_result"
    }
   ],
   "source": [
    "intermediate"
   ]
  },
  {
   "cell_type": "markdown",
   "metadata": {},
   "source": [
    "# 3. Exercises\n",
    "\n",
    "## Exercise Set: Pandas Series Key Concepts\n",
    "### **Dataset**: 9000 Movies Dataset  \n",
    "📌 Make sure you have downloaded the dataset from Kaggle before running the exercises.\n",
    "\n",
    "---\n",
    "\n",
    "### **Exercise 1: Calling Series Methods**  \n",
    "**Objective**: Learn how to call basic Series methods to analyze data.\n",
    "\n",
    "**Task**:\n",
    "1. Select the \"Popularity\" column from the dataset.\n",
    "2. Use the `.min()` method to find the lowest popularity value in the dataset.\n",
    "3. Use the `.max()` method to find the highest popularity value in the dataset.\n",
    "4. Find the mean of the popularity column using the `.mean()` method.\n",
    "5. Find the median popularity using the `.median()` method.\n",
    "\n",
    "📌 **Hint**: Use `.min()`, `.max()`, `.mean()`, and `.median()` methods on the 'Popularity' column.\n",
    "\n",
    "\n",
    "---\n",
    "\n",
    "### **Exercise 2: Series Operations**  \n",
    "**Objective**: Perform basic operations on a Series.\n",
    "\n",
    "**Task**:\n",
    "1. Create a new Series by adding 10 to the \"Popularity\" column.\n",
    "2. Create a new Series by dividing the \"Popularity\" column by the \"Vote_Count\" column.\n",
    "3. Check if any value in the \"Popularity\" column is greater than 50.\n",
    "\n",
    "📌 **Hint**: Use arithmetic operations and comparison operators to perform these tasks.\n",
    "\n",
    "---\n",
    "\n",
    "### **Exercise 3: Chaining Series Methods**  \n",
    "**Objective**: Chain multiple Series methods together.\n",
    "\n",
    "**Task**:\n",
    "1. First, select the \"Popularity\" column.\n",
    "2. Apply the `.dropna()` method to remove any missing values.\n",
    "3. Apply the `.apply()` method to increase each remaining value by 20%.\n",
    "4. Calculate the mean of the updated \"Popularity\" values using the `.mean()` method.\n",
    "\n",
    "📌 **Hint**: Chain `.dropna()`, `.apply()`, and `.mean()` methods.\n",
    "\n",
    "---\n",
    "\n",
    "### **Exercise 4: Handling Missing Values**  \n",
    "**Objective**: Practice handling missing values in a Series.\n",
    "\n",
    "**Task**:\n",
    "1. Identify the missing values in the \"Vote_Average\" column.\n",
    "2. Use the `.fillna()` method to replace missing values in \"Vote_Average\" with the mean of the column.\n",
    "3. Use the `.dropna()` method to remove rows with missing values in the \"Genre\" column.\n",
    "\n",
    "📌 **Hint**: Use `.isna()`, `.fillna()`, and `.dropna()` methods to handle missing data.\n",
    "\n",
    "---\n",
    "\n",
    "### **Exercise 5: Applying Custom Functions to a Series**  \n",
    "**Objective**: Apply custom functions to a Series using `.apply()`.\n",
    "\n",
    "**Task**:\n",
    "1. Create a custom function that checks if a movie's popularity is above the average and returns \"High\" or \"Low\".\n",
    "2. Apply this function to the \"Popularity\" column to create a new column \"Popularity_Level\" with the results.\n",
    "\n",
    "📌 **Hint**: Use `.apply()` to apply your custom function to a Series.\n",
    "\n",
    "---"
   ]
  }
 ],
 "metadata": {
  "kernelspec": {
   "display_name": "Python 3",
   "language": "python",
   "name": "python3"
  },
  "language_info": {
   "codemirror_mode": {
    "name": "ipython",
    "version": 3
   },
   "file_extension": ".py",
   "mimetype": "text/x-python",
   "name": "python",
   "nbconvert_exporter": "python",
   "pygments_lexer": "ipython3",
   "version": "3.12.6"
  }
 },
 "nbformat": 4,
 "nbformat_minor": 2
}
